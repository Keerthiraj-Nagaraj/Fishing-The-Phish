{
 "cells": [
  {
   "cell_type": "code",
   "execution_count": 1,
   "metadata": {},
   "outputs": [],
   "source": [
    "# Import relevant libraries\n",
    "%matplotlib inline\n",
    "import numpy as np\n",
    "import matplotlib.pyplot as plt\n",
    "import pandas as pd\n",
    "import seaborn as sns\n",
    "import pickle\n",
    "\n",
    "sns.set()"
   ]
  },
  {
   "cell_type": "code",
   "execution_count": 2,
   "metadata": {},
   "outputs": [],
   "source": [
    "import warnings\n",
    "warnings.filterwarnings('ignore')"
   ]
  },
  {
   "cell_type": "code",
   "execution_count": 3,
   "metadata": {},
   "outputs": [],
   "source": [
    "# Classification metrics and dataset division\n",
    "from sklearn.metrics import confusion_matrix\n",
    "from sklearn.metrics import classification_report\n",
    "from sklearn.metrics import f1_score\n",
    "from sklearn.model_selection import train_test_split"
   ]
  },
  {
   "cell_type": "code",
   "execution_count": 4,
   "metadata": {},
   "outputs": [],
   "source": [
    "#Scikit-learn ML models\n",
    "from sklearn.preprocessing import StandardScaler\n",
    "from sklearn.linear_model import LogisticRegression\n",
    "from sklearn.neighbors import KNeighborsClassifier\n",
    "from sklearn.tree import DecisionTreeClassifier\n",
    "from sklearn.ensemble import RandomForestClassifier, AdaBoostClassifier"
   ]
  },
  {
   "cell_type": "code",
   "execution_count": 5,
   "metadata": {},
   "outputs": [
    {
     "name": "stderr",
     "output_type": "stream",
     "text": [
      "Using TensorFlow backend.\n"
     ]
    }
   ],
   "source": [
    "#Keras\n",
    "from keras.preprocessing.text import Tokenizer\n",
    "from keras.preprocessing.sequence import pad_sequences\n",
    "from keras.models import Sequential\n",
    "from keras.layers import Dense, LSTM, Dropout, Activation\n",
    "from keras.layers.embeddings import Embedding\n",
    "from keras.callbacks import EarlyStopping, ModelCheckpoint\n",
    "from keras.models import load_model"
   ]
  },
  {
   "cell_type": "code",
   "execution_count": 6,
   "metadata": {},
   "outputs": [],
   "source": [
    "# NLP \n",
    "import string\n",
    "import nltk\n",
    "from nltk.corpus import stopwords\n",
    "from nltk.stem import WordNetLemmatizer \n",
    "import re"
   ]
  },
  {
   "cell_type": "code",
   "execution_count": 7,
   "metadata": {},
   "outputs": [],
   "source": [
    "#Feature engineering from scikit-learn for text based columns\n",
    "from sklearn.feature_extraction.text import CountVectorizer, TfidfVectorizer, TfidfTransformer\n",
    "from sklearn.pipeline import Pipeline"
   ]
  },
  {
   "cell_type": "code",
   "execution_count": 8,
   "metadata": {},
   "outputs": [],
   "source": [
    "#nltk.download('wordnet')"
   ]
  },
  {
   "cell_type": "code",
   "execution_count": 9,
   "metadata": {},
   "outputs": [],
   "source": [
    "def text_processor(text):\n",
    "    ## Convert words to lower case and split them\n",
    "#    text = text.lower().split()\n",
    "    \n",
    "    ## Remove stop words\n",
    "#    stop_words = set(stopwords.words(\"english\"))\n",
    "#    text = [w for w in text if not w in stop_words]  \n",
    "    \n",
    "#    text = \" \".join(text)\n",
    "#    text = re.sub(r\"[^A-Za-z0-9^,!.\\/'+-=]\", \" \", text) \n",
    "    # Tokenize\n",
    "#    tokens = nltk.word_tokenize(text)\n",
    "  \n",
    "#    # Lemmatize \n",
    "\n",
    "#    lemmatizer = WordNetLemmatizer()\n",
    "#    lemmatized_words = [lemmatizer.lemmatize(word) for word in tokens]\n",
    "    \n",
    "#    lemmatized_words = [w for w in lemmatized_words if len(w)>1]  \n",
    "    \n",
    "#    text = \" \".join(lemmatized_words)\n",
    "    \n",
    "    \n",
    "    return text"
   ]
  },
  {
   "cell_type": "code",
   "execution_count": 10,
   "metadata": {},
   "outputs": [],
   "source": [
    "phish_data = pd.read_csv(\"FIU_Phishing_Mitre_Dataset_split_1.csv\")"
   ]
  },
  {
   "cell_type": "code",
   "execution_count": 11,
   "metadata": {},
   "outputs": [
    {
     "data": {
      "text/html": [
       "<div>\n",
       "<style scoped>\n",
       "    .dataframe tbody tr th:only-of-type {\n",
       "        vertical-align: middle;\n",
       "    }\n",
       "\n",
       "    .dataframe tbody tr th {\n",
       "        vertical-align: top;\n",
       "    }\n",
       "\n",
       "    .dataframe thead th {\n",
       "        text-align: right;\n",
       "    }\n",
       "</style>\n",
       "<table border=\"1\" class=\"dataframe\">\n",
       "  <thead>\n",
       "    <tr style=\"text-align: right;\">\n",
       "      <th></th>\n",
       "      <th>col_1</th>\n",
       "      <th>create_age(months)</th>\n",
       "      <th>expiry_age(months)</th>\n",
       "      <th>update_age(days)</th>\n",
       "      <th>URL</th>\n",
       "      <th>Label</th>\n",
       "    </tr>\n",
       "  </thead>\n",
       "  <tbody>\n",
       "    <tr>\n",
       "      <th>0</th>\n",
       "      <td>642</td>\n",
       "      <td>-1</td>\n",
       "      <td>-1</td>\n",
       "      <td>-1</td>\n",
       "      <td>http://account-google-com.ngate.my/c44cca40176...</td>\n",
       "      <td>1</td>\n",
       "    </tr>\n",
       "    <tr>\n",
       "      <th>1</th>\n",
       "      <td>2968</td>\n",
       "      <td>212</td>\n",
       "      <td>16</td>\n",
       "      <td>663</td>\n",
       "      <td>http://www.coffeespecialties.com/...</td>\n",
       "      <td>0</td>\n",
       "    </tr>\n",
       "    <tr>\n",
       "      <th>2</th>\n",
       "      <td>2401</td>\n",
       "      <td>-1</td>\n",
       "      <td>-1</td>\n",
       "      <td>-1</td>\n",
       "      <td>http://black.pk/wp-content/2013/04/bp.postale/...</td>\n",
       "      <td>1</td>\n",
       "    </tr>\n",
       "    <tr>\n",
       "      <th>3</th>\n",
       "      <td>5337</td>\n",
       "      <td>198</td>\n",
       "      <td>6</td>\n",
       "      <td>186</td>\n",
       "      <td>http://atomicsoda.com/manutd...</td>\n",
       "      <td>0</td>\n",
       "    </tr>\n",
       "    <tr>\n",
       "      <th>4</th>\n",
       "      <td>6538</td>\n",
       "      <td>240</td>\n",
       "      <td>24</td>\n",
       "      <td>1684</td>\n",
       "      <td>http://bostoncoffeecake.com/...</td>\n",
       "      <td>0</td>\n",
       "    </tr>\n",
       "  </tbody>\n",
       "</table>\n",
       "</div>"
      ],
      "text/plain": [
       "   col_1  create_age(months)  expiry_age(months)  update_age(days)  \\\n",
       "0    642                  -1                  -1                -1   \n",
       "1   2968                 212                  16               663   \n",
       "2   2401                  -1                  -1                -1   \n",
       "3   5337                 198                   6               186   \n",
       "4   6538                 240                  24              1684   \n",
       "\n",
       "                                                 URL  Label  \n",
       "0  http://account-google-com.ngate.my/c44cca40176...      1  \n",
       "1               http://www.coffeespecialties.com/...      0  \n",
       "2  http://black.pk/wp-content/2013/04/bp.postale/...      1  \n",
       "3                    http://atomicsoda.com/manutd...      0  \n",
       "4                    http://bostoncoffeecake.com/...      0  "
      ]
     },
     "execution_count": 11,
     "metadata": {},
     "output_type": "execute_result"
    }
   ],
   "source": [
    "phish_data.head()"
   ]
  },
  {
   "cell_type": "code",
   "execution_count": 12,
   "metadata": {},
   "outputs": [
    {
     "data": {
      "text/plain": [
       "array(['http://account-google-com.ngate.my/c44cca401760e0c1e12587f9b833f8e5...',\n",
       "       'http://www.coffeespecialties.com/...',\n",
       "       'http://black.pk/wp-content/2013/04/bp.postale/96306090ce26bb6aae928b9a...',\n",
       "       ..., 'http://tech.groups.yahoo.com/group/eClippings/...',\n",
       "       'http://www.pinkmoonrecords.com/...',\n",
       "       'http://174.136.57.160/~laxmi/images/sitemap/USAAI/QSAAID/Iogin/auth_na...'],\n",
       "      dtype=object)"
      ]
     },
     "execution_count": 12,
     "metadata": {},
     "output_type": "execute_result"
    }
   ],
   "source": [
    "clean_url = phish_data[\"URL\"].map(lambda x: text_processor(x)).values\n",
    "clean_url"
   ]
  },
  {
   "cell_type": "code",
   "execution_count": 13,
   "metadata": {},
   "outputs": [
    {
     "data": {
      "text/html": [
       "<div>\n",
       "<style scoped>\n",
       "    .dataframe tbody tr th:only-of-type {\n",
       "        vertical-align: middle;\n",
       "    }\n",
       "\n",
       "    .dataframe tbody tr th {\n",
       "        vertical-align: top;\n",
       "    }\n",
       "\n",
       "    .dataframe thead th {\n",
       "        text-align: right;\n",
       "    }\n",
       "</style>\n",
       "<table border=\"1\" class=\"dataframe\">\n",
       "  <thead>\n",
       "    <tr style=\"text-align: right;\">\n",
       "      <th></th>\n",
       "      <th>col_1</th>\n",
       "      <th>create_age(months)</th>\n",
       "      <th>expiry_age(months)</th>\n",
       "      <th>update_age(days)</th>\n",
       "      <th>URL</th>\n",
       "      <th>Label</th>\n",
       "      <th>URL_length</th>\n",
       "    </tr>\n",
       "  </thead>\n",
       "  <tbody>\n",
       "    <tr>\n",
       "      <th>0</th>\n",
       "      <td>642</td>\n",
       "      <td>-1</td>\n",
       "      <td>-1</td>\n",
       "      <td>-1</td>\n",
       "      <td>http://account-google-com.ngate.my/c44cca40176...</td>\n",
       "      <td>1</td>\n",
       "      <td>70</td>\n",
       "    </tr>\n",
       "    <tr>\n",
       "      <th>1</th>\n",
       "      <td>2968</td>\n",
       "      <td>212</td>\n",
       "      <td>16</td>\n",
       "      <td>663</td>\n",
       "      <td>http://www.coffeespecialties.com/...</td>\n",
       "      <td>0</td>\n",
       "      <td>36</td>\n",
       "    </tr>\n",
       "    <tr>\n",
       "      <th>2</th>\n",
       "      <td>2401</td>\n",
       "      <td>-1</td>\n",
       "      <td>-1</td>\n",
       "      <td>-1</td>\n",
       "      <td>http://black.pk/wp-content/2013/04/bp.postale/...</td>\n",
       "      <td>1</td>\n",
       "      <td>73</td>\n",
       "    </tr>\n",
       "    <tr>\n",
       "      <th>3</th>\n",
       "      <td>5337</td>\n",
       "      <td>198</td>\n",
       "      <td>6</td>\n",
       "      <td>186</td>\n",
       "      <td>http://atomicsoda.com/manutd...</td>\n",
       "      <td>0</td>\n",
       "      <td>31</td>\n",
       "    </tr>\n",
       "    <tr>\n",
       "      <th>4</th>\n",
       "      <td>6538</td>\n",
       "      <td>240</td>\n",
       "      <td>24</td>\n",
       "      <td>1684</td>\n",
       "      <td>http://bostoncoffeecake.com/...</td>\n",
       "      <td>0</td>\n",
       "      <td>31</td>\n",
       "    </tr>\n",
       "  </tbody>\n",
       "</table>\n",
       "</div>"
      ],
      "text/plain": [
       "   col_1  create_age(months)  expiry_age(months)  update_age(days)  \\\n",
       "0    642                  -1                  -1                -1   \n",
       "1   2968                 212                  16               663   \n",
       "2   2401                  -1                  -1                -1   \n",
       "3   5337                 198                   6               186   \n",
       "4   6538                 240                  24              1684   \n",
       "\n",
       "                                                 URL  Label  URL_length  \n",
       "0  http://account-google-com.ngate.my/c44cca40176...      1          70  \n",
       "1               http://www.coffeespecialties.com/...      0          36  \n",
       "2  http://black.pk/wp-content/2013/04/bp.postale/...      1          73  \n",
       "3                    http://atomicsoda.com/manutd...      0          31  \n",
       "4                    http://bostoncoffeecake.com/...      0          31  "
      ]
     },
     "execution_count": 13,
     "metadata": {},
     "output_type": "execute_result"
    }
   ],
   "source": [
    "len_url = []\n",
    "\n",
    "for ur in clean_url:\n",
    "    len_url.append(len(ur))\n",
    "\n",
    "phish_data['URL_length'] = pd.Series(len_url)\n",
    "phish_data.head()"
   ]
  },
  {
   "cell_type": "code",
   "execution_count": 14,
   "metadata": {},
   "outputs": [
    {
     "data": {
      "text/html": [
       "<div>\n",
       "<style scoped>\n",
       "    .dataframe tbody tr th:only-of-type {\n",
       "        vertical-align: middle;\n",
       "    }\n",
       "\n",
       "    .dataframe tbody tr th {\n",
       "        vertical-align: top;\n",
       "    }\n",
       "\n",
       "    .dataframe thead th {\n",
       "        text-align: right;\n",
       "    }\n",
       "</style>\n",
       "<table border=\"1\" class=\"dataframe\">\n",
       "  <thead>\n",
       "    <tr style=\"text-align: right;\">\n",
       "      <th></th>\n",
       "      <th>col_1</th>\n",
       "      <th>create_age(months)</th>\n",
       "      <th>expiry_age(months)</th>\n",
       "      <th>update_age(days)</th>\n",
       "      <th>URL</th>\n",
       "      <th>Label</th>\n",
       "      <th>URL_length</th>\n",
       "      <th>URL_slashes</th>\n",
       "    </tr>\n",
       "  </thead>\n",
       "  <tbody>\n",
       "    <tr>\n",
       "      <th>0</th>\n",
       "      <td>642</td>\n",
       "      <td>-1</td>\n",
       "      <td>-1</td>\n",
       "      <td>-1</td>\n",
       "      <td>http://account-google-com.ngate.my/c44cca40176...</td>\n",
       "      <td>1</td>\n",
       "      <td>70</td>\n",
       "      <td>3</td>\n",
       "    </tr>\n",
       "    <tr>\n",
       "      <th>1</th>\n",
       "      <td>2968</td>\n",
       "      <td>212</td>\n",
       "      <td>16</td>\n",
       "      <td>663</td>\n",
       "      <td>http://www.coffeespecialties.com/...</td>\n",
       "      <td>0</td>\n",
       "      <td>36</td>\n",
       "      <td>3</td>\n",
       "    </tr>\n",
       "    <tr>\n",
       "      <th>2</th>\n",
       "      <td>2401</td>\n",
       "      <td>-1</td>\n",
       "      <td>-1</td>\n",
       "      <td>-1</td>\n",
       "      <td>http://black.pk/wp-content/2013/04/bp.postale/...</td>\n",
       "      <td>1</td>\n",
       "      <td>73</td>\n",
       "      <td>7</td>\n",
       "    </tr>\n",
       "    <tr>\n",
       "      <th>3</th>\n",
       "      <td>5337</td>\n",
       "      <td>198</td>\n",
       "      <td>6</td>\n",
       "      <td>186</td>\n",
       "      <td>http://atomicsoda.com/manutd...</td>\n",
       "      <td>0</td>\n",
       "      <td>31</td>\n",
       "      <td>3</td>\n",
       "    </tr>\n",
       "    <tr>\n",
       "      <th>4</th>\n",
       "      <td>6538</td>\n",
       "      <td>240</td>\n",
       "      <td>24</td>\n",
       "      <td>1684</td>\n",
       "      <td>http://bostoncoffeecake.com/...</td>\n",
       "      <td>0</td>\n",
       "      <td>31</td>\n",
       "      <td>3</td>\n",
       "    </tr>\n",
       "  </tbody>\n",
       "</table>\n",
       "</div>"
      ],
      "text/plain": [
       "   col_1  create_age(months)  expiry_age(months)  update_age(days)  \\\n",
       "0    642                  -1                  -1                -1   \n",
       "1   2968                 212                  16               663   \n",
       "2   2401                  -1                  -1                -1   \n",
       "3   5337                 198                   6               186   \n",
       "4   6538                 240                  24              1684   \n",
       "\n",
       "                                                 URL  Label  URL_length  \\\n",
       "0  http://account-google-com.ngate.my/c44cca40176...      1          70   \n",
       "1               http://www.coffeespecialties.com/...      0          36   \n",
       "2  http://black.pk/wp-content/2013/04/bp.postale/...      1          73   \n",
       "3                    http://atomicsoda.com/manutd...      0          31   \n",
       "4                    http://bostoncoffeecake.com/...      0          31   \n",
       "\n",
       "   URL_slashes  \n",
       "0            3  \n",
       "1            3  \n",
       "2            7  \n",
       "3            3  \n",
       "4            3  "
      ]
     },
     "execution_count": 14,
     "metadata": {},
     "output_type": "execute_result"
    }
   ],
   "source": [
    "len_slashes = []\n",
    "\n",
    "for ur in clean_url:\n",
    "    len_slashes.append(ur.count('/') )\n",
    "\n",
    "phish_data['URL_slashes'] = pd.Series(len_slashes)\n",
    "phish_data.head()"
   ]
  },
  {
   "cell_type": "code",
   "execution_count": 15,
   "metadata": {},
   "outputs": [
    {
     "data": {
      "text/html": [
       "<div>\n",
       "<style scoped>\n",
       "    .dataframe tbody tr th:only-of-type {\n",
       "        vertical-align: middle;\n",
       "    }\n",
       "\n",
       "    .dataframe tbody tr th {\n",
       "        vertical-align: top;\n",
       "    }\n",
       "\n",
       "    .dataframe thead th {\n",
       "        text-align: right;\n",
       "    }\n",
       "</style>\n",
       "<table border=\"1\" class=\"dataframe\">\n",
       "  <thead>\n",
       "    <tr style=\"text-align: right;\">\n",
       "      <th></th>\n",
       "      <th>col_1</th>\n",
       "      <th>create_age(months)</th>\n",
       "      <th>expiry_age(months)</th>\n",
       "      <th>update_age(days)</th>\n",
       "      <th>URL</th>\n",
       "      <th>Label</th>\n",
       "      <th>URL_length</th>\n",
       "      <th>URL_slashes</th>\n",
       "      <th>URL_dots</th>\n",
       "    </tr>\n",
       "  </thead>\n",
       "  <tbody>\n",
       "    <tr>\n",
       "      <th>0</th>\n",
       "      <td>642</td>\n",
       "      <td>-1</td>\n",
       "      <td>-1</td>\n",
       "      <td>-1</td>\n",
       "      <td>http://account-google-com.ngate.my/c44cca40176...</td>\n",
       "      <td>1</td>\n",
       "      <td>70</td>\n",
       "      <td>3</td>\n",
       "      <td>5</td>\n",
       "    </tr>\n",
       "    <tr>\n",
       "      <th>1</th>\n",
       "      <td>2968</td>\n",
       "      <td>212</td>\n",
       "      <td>16</td>\n",
       "      <td>663</td>\n",
       "      <td>http://www.coffeespecialties.com/...</td>\n",
       "      <td>0</td>\n",
       "      <td>36</td>\n",
       "      <td>3</td>\n",
       "      <td>5</td>\n",
       "    </tr>\n",
       "    <tr>\n",
       "      <th>2</th>\n",
       "      <td>2401</td>\n",
       "      <td>-1</td>\n",
       "      <td>-1</td>\n",
       "      <td>-1</td>\n",
       "      <td>http://black.pk/wp-content/2013/04/bp.postale/...</td>\n",
       "      <td>1</td>\n",
       "      <td>73</td>\n",
       "      <td>7</td>\n",
       "      <td>5</td>\n",
       "    </tr>\n",
       "    <tr>\n",
       "      <th>3</th>\n",
       "      <td>5337</td>\n",
       "      <td>198</td>\n",
       "      <td>6</td>\n",
       "      <td>186</td>\n",
       "      <td>http://atomicsoda.com/manutd...</td>\n",
       "      <td>0</td>\n",
       "      <td>31</td>\n",
       "      <td>3</td>\n",
       "      <td>4</td>\n",
       "    </tr>\n",
       "    <tr>\n",
       "      <th>4</th>\n",
       "      <td>6538</td>\n",
       "      <td>240</td>\n",
       "      <td>24</td>\n",
       "      <td>1684</td>\n",
       "      <td>http://bostoncoffeecake.com/...</td>\n",
       "      <td>0</td>\n",
       "      <td>31</td>\n",
       "      <td>3</td>\n",
       "      <td>4</td>\n",
       "    </tr>\n",
       "  </tbody>\n",
       "</table>\n",
       "</div>"
      ],
      "text/plain": [
       "   col_1  create_age(months)  expiry_age(months)  update_age(days)  \\\n",
       "0    642                  -1                  -1                -1   \n",
       "1   2968                 212                  16               663   \n",
       "2   2401                  -1                  -1                -1   \n",
       "3   5337                 198                   6               186   \n",
       "4   6538                 240                  24              1684   \n",
       "\n",
       "                                                 URL  Label  URL_length  \\\n",
       "0  http://account-google-com.ngate.my/c44cca40176...      1          70   \n",
       "1               http://www.coffeespecialties.com/...      0          36   \n",
       "2  http://black.pk/wp-content/2013/04/bp.postale/...      1          73   \n",
       "3                    http://atomicsoda.com/manutd...      0          31   \n",
       "4                    http://bostoncoffeecake.com/...      0          31   \n",
       "\n",
       "   URL_slashes  URL_dots  \n",
       "0            3         5  \n",
       "1            3         5  \n",
       "2            7         5  \n",
       "3            3         4  \n",
       "4            3         4  "
      ]
     },
     "execution_count": 15,
     "metadata": {},
     "output_type": "execute_result"
    }
   ],
   "source": [
    "len_dots = []\n",
    "\n",
    "for ur in clean_url:\n",
    "    len_dots.append(ur.count('.') )\n",
    "\n",
    "phish_data['URL_dots'] = pd.Series(len_dots)\n",
    "phish_data.head()"
   ]
  },
  {
   "cell_type": "code",
   "execution_count": 16,
   "metadata": {},
   "outputs": [
    {
     "data": {
      "text/html": [
       "<div>\n",
       "<style scoped>\n",
       "    .dataframe tbody tr th:only-of-type {\n",
       "        vertical-align: middle;\n",
       "    }\n",
       "\n",
       "    .dataframe tbody tr th {\n",
       "        vertical-align: top;\n",
       "    }\n",
       "\n",
       "    .dataframe thead th {\n",
       "        text-align: right;\n",
       "    }\n",
       "</style>\n",
       "<table border=\"1\" class=\"dataframe\">\n",
       "  <thead>\n",
       "    <tr style=\"text-align: right;\">\n",
       "      <th></th>\n",
       "      <th>col_1</th>\n",
       "      <th>create_age(months)</th>\n",
       "      <th>expiry_age(months)</th>\n",
       "      <th>update_age(days)</th>\n",
       "      <th>URL</th>\n",
       "      <th>Label</th>\n",
       "      <th>URL_length</th>\n",
       "      <th>URL_slashes</th>\n",
       "      <th>URL_dots</th>\n",
       "      <th>URL_host</th>\n",
       "    </tr>\n",
       "  </thead>\n",
       "  <tbody>\n",
       "    <tr>\n",
       "      <th>0</th>\n",
       "      <td>642</td>\n",
       "      <td>-1</td>\n",
       "      <td>-1</td>\n",
       "      <td>-1</td>\n",
       "      <td>http://account-google-com.ngate.my/c44cca40176...</td>\n",
       "      <td>1</td>\n",
       "      <td>70</td>\n",
       "      <td>3</td>\n",
       "      <td>5</td>\n",
       "      <td>5</td>\n",
       "    </tr>\n",
       "    <tr>\n",
       "      <th>1</th>\n",
       "      <td>2968</td>\n",
       "      <td>212</td>\n",
       "      <td>16</td>\n",
       "      <td>663</td>\n",
       "      <td>http://www.coffeespecialties.com/...</td>\n",
       "      <td>0</td>\n",
       "      <td>36</td>\n",
       "      <td>3</td>\n",
       "      <td>5</td>\n",
       "      <td>2</td>\n",
       "    </tr>\n",
       "    <tr>\n",
       "      <th>2</th>\n",
       "      <td>2401</td>\n",
       "      <td>-1</td>\n",
       "      <td>-1</td>\n",
       "      <td>-1</td>\n",
       "      <td>http://black.pk/wp-content/2013/04/bp.postale/...</td>\n",
       "      <td>1</td>\n",
       "      <td>73</td>\n",
       "      <td>7</td>\n",
       "      <td>5</td>\n",
       "      <td>8</td>\n",
       "    </tr>\n",
       "    <tr>\n",
       "      <th>3</th>\n",
       "      <td>5337</td>\n",
       "      <td>198</td>\n",
       "      <td>6</td>\n",
       "      <td>186</td>\n",
       "      <td>http://atomicsoda.com/manutd...</td>\n",
       "      <td>0</td>\n",
       "      <td>31</td>\n",
       "      <td>3</td>\n",
       "      <td>4</td>\n",
       "      <td>2</td>\n",
       "    </tr>\n",
       "    <tr>\n",
       "      <th>4</th>\n",
       "      <td>6538</td>\n",
       "      <td>240</td>\n",
       "      <td>24</td>\n",
       "      <td>1684</td>\n",
       "      <td>http://bostoncoffeecake.com/...</td>\n",
       "      <td>0</td>\n",
       "      <td>31</td>\n",
       "      <td>3</td>\n",
       "      <td>4</td>\n",
       "      <td>2</td>\n",
       "    </tr>\n",
       "  </tbody>\n",
       "</table>\n",
       "</div>"
      ],
      "text/plain": [
       "   col_1  create_age(months)  expiry_age(months)  update_age(days)  \\\n",
       "0    642                  -1                  -1                -1   \n",
       "1   2968                 212                  16               663   \n",
       "2   2401                  -1                  -1                -1   \n",
       "3   5337                 198                   6               186   \n",
       "4   6538                 240                  24              1684   \n",
       "\n",
       "                                                 URL  Label  URL_length  \\\n",
       "0  http://account-google-com.ngate.my/c44cca40176...      1          70   \n",
       "1               http://www.coffeespecialties.com/...      0          36   \n",
       "2  http://black.pk/wp-content/2013/04/bp.postale/...      1          73   \n",
       "3                    http://atomicsoda.com/manutd...      0          31   \n",
       "4                    http://bostoncoffeecake.com/...      0          31   \n",
       "\n",
       "   URL_slashes  URL_dots  URL_host  \n",
       "0            3         5         5  \n",
       "1            3         5         2  \n",
       "2            7         5         8  \n",
       "3            3         4         2  \n",
       "4            3         4         2  "
      ]
     },
     "execution_count": 16,
     "metadata": {},
     "output_type": "execute_result"
    }
   ],
   "source": [
    "len_host = []\n",
    "\n",
    "start = '://'\n",
    "end = '/'\n",
    "#print s[s.find(start)+len(start):s.rfind(end)]\n",
    "\n",
    "for ur in clean_url:\n",
    "    temp = ur[ur.find(start)+2*len(start) + 2: ur.rfind(end)]\n",
    "    temp = temp.replace('/','.')\n",
    "    temp = temp.replace('-','.')\n",
    "    len_host.append(len(temp.split('.')))\n",
    "\n",
    "phish_data['URL_host'] = pd.Series(len_host)\n",
    "phish_data.head()"
   ]
  },
  {
   "cell_type": "code",
   "execution_count": 17,
   "metadata": {},
   "outputs": [
    {
     "data": {
      "text/plain": [
       "[<matplotlib.lines.Line2D at 0x274040aed30>]"
      ]
     },
     "execution_count": 17,
     "metadata": {},
     "output_type": "execute_result"
    },
    {
     "data": {
      "image/png": "[encoded data removed]",
      "text/plain": [
       "<Figure size 432x288 with 1 Axes>"
      ]
     },
     "metadata": {
      "needs_background": "light"
     },
     "output_type": "display_data"
    }
   ],
   "source": [
    "plt.plot(len_host, '.')"
   ]
  },
  {
   "cell_type": "markdown",
   "metadata": {},
   "source": [
    "## Text based features"
   ]
  },
  {
   "cell_type": "code",
   "execution_count": 18,
   "metadata": {},
   "outputs": [],
   "source": [
    "total_word_count = 5000\n",
    "tokenizer = Tokenizer(num_words=total_word_count)\n",
    "tokenizer.fit_on_texts(clean_url)"
   ]
  },
  {
   "cell_type": "code",
   "execution_count": 19,
   "metadata": {},
   "outputs": [
    {
     "data": {
      "text/plain": [
       "(4300, 5)"
      ]
     },
     "execution_count": 19,
     "metadata": {},
     "output_type": "execute_result"
    }
   ],
   "source": [
    "seq_length = 5 #Number of items in each sequence\n",
    "\n",
    "sequences = tokenizer.texts_to_sequences(clean_url)\n",
    "data = pad_sequences(sequences, maxlen=seq_length)\n",
    "data.shape"
   ]
  },
  {
   "cell_type": "markdown",
   "metadata": {},
   "source": [
    "## Numerical features"
   ]
  },
  {
   "cell_type": "code",
   "execution_count": 20,
   "metadata": {},
   "outputs": [],
   "source": [
    "num_data = phish_data[['create_age(months)', 'expiry_age(months)', 'update_age(days)', 'URL_length', 'URL_slashes', 'URL_dots', 'URL_host']].values\n",
    "num_lab = phish_data[\"Label\"].values"
   ]
  },
  {
   "cell_type": "code",
   "execution_count": 21,
   "metadata": {},
   "outputs": [],
   "source": [
    "sscaler = StandardScaler()\n",
    "num_data_scaled = sscaler.fit_transform(num_data)\n",
    "num_data = num_data_scaled"
   ]
  },
  {
   "cell_type": "code",
   "execution_count": 22,
   "metadata": {},
   "outputs": [],
   "source": [
    "random_seed_val = 7"
   ]
  },
  {
   "cell_type": "code",
   "execution_count": 23,
   "metadata": {},
   "outputs": [],
   "source": [
    "X_train, X_test, y_train, y_test = train_test_split(num_data_scaled, num_lab, test_size = 0.2, random_state = random_seed_val)"
   ]
  },
  {
   "cell_type": "code",
   "execution_count": 24,
   "metadata": {},
   "outputs": [],
   "source": [
    "names = [\"Log-Reg\", \"Nearest Neighbors\",\n",
    "         \"Decision Tree\", \"Random Forest\", \"AdaBoost\"]\n",
    "\n",
    "classifiers = [\n",
    "    LogisticRegression(),\n",
    "    KNeighborsClassifier(5),\n",
    "    DecisionTreeClassifier(max_depth=5),\n",
    "    RandomForestClassifier(max_depth=5, criterion = 'gini', max_features = 'log2', n_estimators = 50),\n",
    "    AdaBoostClassifier()]\n"
   ]
  },
  {
   "cell_type": "code",
   "execution_count": 25,
   "metadata": {},
   "outputs": [],
   "source": [
    "y_pred_mat_num = np.zeros((len(X_test), len(names)))\n",
    "y_pred_mat_num_train = np.zeros((len(X_train), len(names)))"
   ]
  },
  {
   "cell_type": "code",
   "execution_count": 26,
   "metadata": {},
   "outputs": [
    {
     "name": "stdout",
     "output_type": "stream",
     "text": [
      "Log-Reg\n",
      "Nearest Neighbors\n",
      "Decision Tree\n",
      "Random Forest\n",
      "AdaBoost\n",
      "Done\n"
     ]
    }
   ],
   "source": [
    "f1_vals = []\n",
    "f1_vals_train = []\n",
    "\n",
    "i = 0\n",
    "\n",
    "models_1 = []\n",
    "\n",
    "for name, clf in zip(names, classifiers):\n",
    "    \n",
    "    print(name)\n",
    "    clf.fit(X_train, y_train)\n",
    "    score = clf.score(X_test, y_test)\n",
    "    y_hat = clf.predict(X_test)\n",
    "    \n",
    "    y_pred_mat_num[:,i] = clf.predict_proba(X_test)[:,1]\n",
    "    y_pred_mat_num_train[:,i] = clf.predict_proba(X_train)[:,1]\n",
    "    \n",
    "    f1_vals.append(f1_score(y_test, y_hat))\n",
    "    f1_vals_train.append(f1_score(y_train, clf.predict(X_train)))\n",
    "    \n",
    "    models_1.append(clf)\n",
    "    \n",
    "    i += 1\n",
    "    \n",
    "print(\"Done\")\n",
    "    "
   ]
  },
  {
   "cell_type": "code",
   "execution_count": null,
   "metadata": {},
   "outputs": [],
   "source": []
  },
  {
   "cell_type": "code",
   "execution_count": 27,
   "metadata": {},
   "outputs": [
    {
     "name": "stdout",
     "output_type": "stream",
     "text": [
      "0.9209694415173867\n"
     ]
    },
    {
     "data": {
      "image/png": "[encoded data removed]",
      "text/plain": [
       "<Figure size 432x288 with 1 Axes>"
      ]
     },
     "metadata": {
      "needs_background": "light"
     },
     "output_type": "display_data"
    }
   ],
   "source": [
    "x = np.arange(0,len(f1_vals))\n",
    "\n",
    "plt.plot(x, f1_vals, 'r')\n",
    "plt.plot(x, f1_vals_train, 'b')\n",
    "plt.xticks(x, names, rotation='vertical')\n",
    "print(np.max(f1_vals))"
   ]
  },
  {
   "cell_type": "code",
   "execution_count": 28,
   "metadata": {},
   "outputs": [],
   "source": [
    "y_num = y_pred_mat_num[:,np.argmax(f1_vals)]\n",
    "y_num_train = y_pred_mat_num_train[:,np.argmax(f1_vals_train)]\n",
    "\n",
    "best_model_1 = models_1[np.argmax(f1_vals)]\n",
    "\n",
    "filename = 'best_model_1.sav'\n",
    "pickle.dump(best_model_1, open(filename, 'wb'))"
   ]
  },
  {
   "cell_type": "code",
   "execution_count": 29,
   "metadata": {},
   "outputs": [],
   "source": [
    "## Text based features with Machine learning models"
   ]
  },
  {
   "cell_type": "code",
   "execution_count": 30,
   "metadata": {},
   "outputs": [],
   "source": [
    "X_train_text, X_test_text, y_train_text, y_test_text = train_test_split(clean_url, num_lab, test_size = 0.2, random_state = random_seed_val)"
   ]
  },
  {
   "cell_type": "code",
   "execution_count": 31,
   "metadata": {},
   "outputs": [],
   "source": [
    "y_pred_mat_text = np.zeros((len(X_test_text), len(names)))\n",
    "y_pred_mat_text_train = np.zeros((len(X_train_text), len(names)))"
   ]
  },
  {
   "cell_type": "code",
   "execution_count": 32,
   "metadata": {},
   "outputs": [
    {
     "name": "stdout",
     "output_type": "stream",
     "text": [
      "Log-Reg\n",
      "Nearest Neighbors\n",
      "Decision Tree\n",
      "Random Forest\n",
      "AdaBoost\n",
      "Done\n"
     ]
    }
   ],
   "source": [
    "f1_vals_text = []\n",
    "f1_vals_text_train = []\n",
    "\n",
    "i = 0\n",
    "\n",
    "models_2 = []\n",
    "\n",
    "for name, clf in zip(names, classifiers):\n",
    "    \n",
    "    print(name)\n",
    "    \n",
    "    classifier = Pipeline([('vect', CountVectorizer()), ('tfidf', TfidfTransformer()), ('clf', clf)])\n",
    "    \n",
    "    classifier.fit(X_train_text, y_train_text)\n",
    "    y_hat_text = classifier.predict(X_test_text)\n",
    "    \n",
    "    y_pred_mat_text[:,i] = classifier.predict_proba(X_test_text)[:,1]\n",
    "    y_pred_mat_text_train[:,i] = classifier.predict_proba(X_train_text)[:,1]\n",
    "    \n",
    "    f1_vals_text.append(f1_score(y_test_text, y_hat_text))\n",
    "    f1_vals_text_train.append(f1_score(y_train_text, classifier.predict(X_train_text)))\n",
    "    \n",
    "    #target_names = [\"Not Phishing\", \"Phishing\"]\n",
    "    #print(classification_report(y_test_text, y_hat_text, target_names=target_names))\n",
    "    \n",
    "#    print(confusion_matrix(y_test_text, y_hat_text))\n",
    "    \n",
    "    models_2.append(classifier)\n",
    "    i += 1\n",
    "#    print(\"Done\")\n",
    "    \n",
    "print(\"Done\")"
   ]
  },
  {
   "cell_type": "code",
   "execution_count": 33,
   "metadata": {},
   "outputs": [
    {
     "name": "stdout",
     "output_type": "stream",
     "text": [
      "0.9128996692392504\n"
     ]
    },
    {
     "data": {
      "image/png": "[encoded data removed]",
      "text/plain": [
       "<Figure size 432x288 with 1 Axes>"
      ]
     },
     "metadata": {
      "needs_background": "light"
     },
     "output_type": "display_data"
    }
   ],
   "source": [
    "x = np.arange(0,len(f1_vals_text))\n",
    "\n",
    "plt.plot(x, f1_vals_text, 'r')\n",
    "plt.plot(x, f1_vals_text_train, 'b')\n",
    "plt.xticks(x, names, rotation='vertical')\n",
    "print(np.max(f1_vals_text))"
   ]
  },
  {
   "cell_type": "code",
   "execution_count": 34,
   "metadata": {},
   "outputs": [],
   "source": [
    "y_text = y_pred_mat_text[:,np.argmax(f1_vals_text)]\n",
    "y_text_train = y_pred_mat_text_train[:,np.argmax(f1_vals_text_train)]\n",
    "\n",
    "\n",
    "best_model_2 = models_2[np.argmax(f1_vals_text)]\n",
    "\n",
    "filename = 'best_model_2.sav'\n",
    "pickle.dump(best_model_2, open(filename, 'wb'))"
   ]
  },
  {
   "cell_type": "code",
   "execution_count": null,
   "metadata": {},
   "outputs": [],
   "source": []
  },
  {
   "cell_type": "code",
   "execution_count": 35,
   "metadata": {},
   "outputs": [],
   "source": [
    "## Text based features with Deep Learning"
   ]
  },
  {
   "cell_type": "code",
   "execution_count": 36,
   "metadata": {},
   "outputs": [],
   "source": [
    "x_train, x_test, y_train, y_test = train_test_split(data, num_lab, test_size=0.2, random_state=random_seed_val)"
   ]
  },
  {
   "cell_type": "code",
   "execution_count": 37,
   "metadata": {},
   "outputs": [],
   "source": [
    "model = Sequential()\n",
    "model.add(Embedding(total_word_count, seq_length, input_length=seq_length))\n",
    "model.add(LSTM(seq_length, dropout=0.3, recurrent_dropout=0.3))\n",
    "#model.add(Dense(5, activation='sigmoid'))\n",
    "model.add(Dense(1, activation='sigmoid'))\n",
    "model.compile(loss='binary_crossentropy', optimizer='adam', metrics=['accuracy'])"
   ]
  },
  {
   "cell_type": "code",
   "execution_count": 38,
   "metadata": {},
   "outputs": [
    {
     "name": "stdout",
     "output_type": "stream",
     "text": [
      "Train on 3096 samples, validate on 344 samples\n",
      "Epoch 1/10\n",
      " - 1s - loss: 0.6787 - acc: 0.6828 - val_loss: 0.6419 - val_acc: 0.8750\n",
      "Epoch 2/10\n",
      " - 0s - loss: 0.5345 - acc: 0.8563 - val_loss: 0.4228 - val_acc: 0.8430\n",
      "Epoch 3/10\n",
      " - 0s - loss: 0.3850 - acc: 0.8647 - val_loss: 0.3461 - val_acc: 0.8605\n",
      "Epoch 4/10\n",
      " - 0s - loss: 0.3139 - acc: 0.8873 - val_loss: 0.3044 - val_acc: 0.8692\n",
      "Epoch 5/10\n",
      " - 0s - loss: 0.2582 - acc: 0.9099 - val_loss: 0.2683 - val_acc: 0.8837\n",
      "Epoch 6/10\n",
      " - 0s - loss: 0.2182 - acc: 0.9302 - val_loss: 0.2387 - val_acc: 0.8924\n",
      "Epoch 7/10\n",
      " - 0s - loss: 0.1840 - acc: 0.9461 - val_loss: 0.2127 - val_acc: 0.9012\n",
      "Epoch 8/10\n",
      " - 0s - loss: 0.1517 - acc: 0.9606 - val_loss: 0.1910 - val_acc: 0.9215\n",
      "Epoch 9/10\n",
      " - 0s - loss: 0.1239 - acc: 0.9700 - val_loss: 0.1755 - val_acc: 0.9273\n",
      "Epoch 10/10\n",
      " - 0s - loss: 0.1045 - acc: 0.9751 - val_loss: 0.1611 - val_acc: 0.9390\n"
     ]
    }
   ],
   "source": [
    "## Fit the model\n",
    "callbacks = [EarlyStopping(monitor='val_loss', patience=3),\n",
    "             ModelCheckpoint(filepath='lstm_url.h5', monitor='val_loss', save_best_only=True)]\n",
    "\n",
    "history = model.fit(x_train, y_train, validation_split=0.1, epochs=10, callbacks = callbacks, verbose = 2)"
   ]
  },
  {
   "cell_type": "code",
   "execution_count": 39,
   "metadata": {},
   "outputs": [
    {
     "name": "stdout",
     "output_type": "stream",
     "text": [
      "Testing Accuracy:  0.9360\n"
     ]
    }
   ],
   "source": [
    "best_model = load_model('lstm_url.h5')\n",
    "test_loss, test_accuracy = best_model.evaluate(x_test, y_test, verbose=False)\n",
    "print(\"Testing Accuracy:  {:.4f}\".format(test_accuracy))"
   ]
  },
  {
   "cell_type": "code",
   "execution_count": 40,
   "metadata": {},
   "outputs": [],
   "source": [
    "y_pred_lstm = best_model.predict_classes(x_test)\n",
    "\n",
    "y_pred_lstm_score = best_model.predict_proba(x_test)\n",
    "y_pred_lstm_score_train = best_model.predict_proba(x_train)"
   ]
  },
  {
   "cell_type": "code",
   "execution_count": 41,
   "metadata": {},
   "outputs": [
    {
     "name": "stdout",
     "output_type": "stream",
     "text": [
      "[[364  22]\n",
      " [ 33 441]]\n",
      "0.9413020277481323\n"
     ]
    }
   ],
   "source": [
    "print(confusion_matrix(y_test, y_pred_lstm))\n",
    "\n",
    "print(f1_score(y_test, y_pred_lstm))"
   ]
  },
  {
   "cell_type": "code",
   "execution_count": 42,
   "metadata": {},
   "outputs": [],
   "source": [
    "y_pred_lstm_score = y_pred_lstm_score.reshape(len(y_pred_lstm_score),)\n",
    "y_pred_lstm_score_train = y_pred_lstm_score_train.reshape(len(y_pred_lstm_score_train),)"
   ]
  },
  {
   "cell_type": "code",
   "execution_count": 43,
   "metadata": {},
   "outputs": [],
   "source": [
    "fusion = y_num + y_text + y_pred_lstm_score\n",
    "fusion_train = y_num_train + y_text_train + y_pred_lstm_score_train"
   ]
  },
  {
   "cell_type": "code",
   "execution_count": 44,
   "metadata": {},
   "outputs": [
    {
     "name": "stdout",
     "output_type": "stream",
     "text": [
      "1.5000000000000009\n"
     ]
    }
   ],
   "source": [
    "f1_fusion_train = []\n",
    "\n",
    "thr_range = np.arange(0.5, 3, 0.05)\n",
    "\n",
    "for thr in thr_range:\n",
    "    fusion_pred_train = []\n",
    "\n",
    "    for val in fusion_train:\n",
    "        if val > thr:\n",
    "            fusion_pred_train.append(1)\n",
    "        else:\n",
    "            fusion_pred_train.append(0)\n",
    "    \n",
    "        \n",
    "    fusion_pred_train = np.array(fusion_pred_train)\n",
    "\n",
    "    f1_fusion_train.append(f1_score(y_train_text, fusion_pred_train))\n",
    "\n",
    "best_thr = thr_range[np.argmax(f1_fusion_train)]\n",
    "\n",
    "print(best_thr)"
   ]
  },
  {
   "cell_type": "code",
   "execution_count": 45,
   "metadata": {},
   "outputs": [
    {
     "name": "stdout",
     "output_type": "stream",
     "text": [
      "[[373  13]\n",
      " [ 31 443]]\n",
      "0.9526881720430108\n"
     ]
    }
   ],
   "source": [
    "fusion_pred = []\n",
    "\n",
    "for val in fusion:\n",
    "    if val > best_thr:\n",
    "        fusion_pred.append(1)\n",
    "    else:\n",
    "        fusion_pred.append(0)\n",
    "        \n",
    "fusion_pred = np.array(fusion_pred)\n",
    "\n",
    "print(confusion_matrix(y_test_text, fusion_pred))\n",
    "\n",
    "print(f1_score(y_test_text, fusion_pred))"
   ]
  },
  {
   "cell_type": "code",
   "execution_count": 46,
   "metadata": {},
   "outputs": [
    {
     "data": {
      "text/plain": [
       "0.9903925336261323"
      ]
     },
     "execution_count": 46,
     "metadata": {},
     "output_type": "execute_result"
    }
   ],
   "source": [
    "np.max(f1_fusion_train)"
   ]
  },
  {
   "cell_type": "markdown",
   "metadata": {},
   "source": [
    "# TESTING"
   ]
  },
  {
   "cell_type": "code",
   "execution_count": null,
   "metadata": {},
   "outputs": [],
   "source": []
  },
  {
   "cell_type": "code",
   "execution_count": 47,
   "metadata": {},
   "outputs": [],
   "source": [
    "phish_data_1 = pd.read_csv(\"FIU_Phishing_Mitre_Dataset_split_2.csv\")"
   ]
  },
  {
   "cell_type": "code",
   "execution_count": 48,
   "metadata": {},
   "outputs": [
    {
     "data": {
      "text/html": [
       "<div>\n",
       "<style scoped>\n",
       "    .dataframe tbody tr th:only-of-type {\n",
       "        vertical-align: middle;\n",
       "    }\n",
       "\n",
       "    .dataframe tbody tr th {\n",
       "        vertical-align: top;\n",
       "    }\n",
       "\n",
       "    .dataframe thead th {\n",
       "        text-align: right;\n",
       "    }\n",
       "</style>\n",
       "<table border=\"1\" class=\"dataframe\">\n",
       "  <thead>\n",
       "    <tr style=\"text-align: right;\">\n",
       "      <th></th>\n",
       "      <th>col_1</th>\n",
       "      <th>create_age(months)</th>\n",
       "      <th>expiry_age(months)</th>\n",
       "      <th>update_age(days)</th>\n",
       "      <th>URL</th>\n",
       "      <th>Label</th>\n",
       "    </tr>\n",
       "  </thead>\n",
       "  <tbody>\n",
       "    <tr>\n",
       "      <th>0</th>\n",
       "      <td>6165</td>\n",
       "      <td>237</td>\n",
       "      <td>15</td>\n",
       "      <td>130</td>\n",
       "      <td>http://timesofindia.indiatimes.com/...</td>\n",
       "      <td>0</td>\n",
       "    </tr>\n",
       "    <tr>\n",
       "      <th>1</th>\n",
       "      <td>739</td>\n",
       "      <td>-1</td>\n",
       "      <td>-1</td>\n",
       "      <td>-1</td>\n",
       "      <td>http://www.winalitelatvia.lv/components/com_ba...</td>\n",
       "      <td>1</td>\n",
       "    </tr>\n",
       "    <tr>\n",
       "      <th>2</th>\n",
       "      <td>6532</td>\n",
       "      <td>189</td>\n",
       "      <td>3</td>\n",
       "      <td>373</td>\n",
       "      <td>http://www.4greatresumes.com/...</td>\n",
       "      <td>0</td>\n",
       "    </tr>\n",
       "    <tr>\n",
       "      <th>3</th>\n",
       "      <td>6089</td>\n",
       "      <td>13</td>\n",
       "      <td>11</td>\n",
       "      <td>21</td>\n",
       "      <td>http://www.cosureb.com/wp-content/g8634d010eac...</td>\n",
       "      <td>1</td>\n",
       "    </tr>\n",
       "    <tr>\n",
       "      <th>4</th>\n",
       "      <td>100</td>\n",
       "      <td>41</td>\n",
       "      <td>43</td>\n",
       "      <td>614</td>\n",
       "      <td>http://phalconwellness.com/2/online.wellsfargo...</td>\n",
       "      <td>1</td>\n",
       "    </tr>\n",
       "  </tbody>\n",
       "</table>\n",
       "</div>"
      ],
      "text/plain": [
       "   col_1  create_age(months)  expiry_age(months)  update_age(days)  \\\n",
       "0   6165                 237                  15               130   \n",
       "1    739                  -1                  -1                -1   \n",
       "2   6532                 189                   3               373   \n",
       "3   6089                  13                  11                21   \n",
       "4    100                  41                  43               614   \n",
       "\n",
       "                                                 URL  Label  \n",
       "0             http://timesofindia.indiatimes.com/...      0  \n",
       "1  http://www.winalitelatvia.lv/components/com_ba...      1  \n",
       "2                   http://www.4greatresumes.com/...      0  \n",
       "3  http://www.cosureb.com/wp-content/g8634d010eac...      1  \n",
       "4  http://phalconwellness.com/2/online.wellsfargo...      1  "
      ]
     },
     "execution_count": 48,
     "metadata": {},
     "output_type": "execute_result"
    }
   ],
   "source": [
    "phish_data_1.head()"
   ]
  },
  {
   "cell_type": "markdown",
   "metadata": {},
   "source": [
    "## Text based features"
   ]
  },
  {
   "cell_type": "code",
   "execution_count": 49,
   "metadata": {},
   "outputs": [],
   "source": [
    "clean_url = phish_data_1[\"URL\"].map(lambda x: text_processor(x)).values #features for model 2"
   ]
  },
  {
   "cell_type": "code",
   "execution_count": 50,
   "metadata": {},
   "outputs": [],
   "source": [
    "#total_word_count = 5000\n",
    "#tokenizer = Tokenizer(num_words=total_word_count)\n",
    "tokenizer.fit_on_texts(clean_url)"
   ]
  },
  {
   "cell_type": "code",
   "execution_count": 51,
   "metadata": {},
   "outputs": [
    {
     "data": {
      "text/plain": [
       "(499, 5)"
      ]
     },
     "execution_count": 51,
     "metadata": {},
     "output_type": "execute_result"
    }
   ],
   "source": [
    "seq_length = 5 #Number of items in each sequence\n",
    "\n",
    "sequences = tokenizer.texts_to_sequences(clean_url)\n",
    "data = pad_sequences(sequences, maxlen=seq_length) #features for model 3\n",
    "data.shape"
   ]
  },
  {
   "cell_type": "code",
   "execution_count": 52,
   "metadata": {},
   "outputs": [
    {
     "data": {
      "text/html": [
       "<div>\n",
       "<style scoped>\n",
       "    .dataframe tbody tr th:only-of-type {\n",
       "        vertical-align: middle;\n",
       "    }\n",
       "\n",
       "    .dataframe tbody tr th {\n",
       "        vertical-align: top;\n",
       "    }\n",
       "\n",
       "    .dataframe thead th {\n",
       "        text-align: right;\n",
       "    }\n",
       "</style>\n",
       "<table border=\"1\" class=\"dataframe\">\n",
       "  <thead>\n",
       "    <tr style=\"text-align: right;\">\n",
       "      <th></th>\n",
       "      <th>col_1</th>\n",
       "      <th>create_age(months)</th>\n",
       "      <th>expiry_age(months)</th>\n",
       "      <th>update_age(days)</th>\n",
       "      <th>URL</th>\n",
       "      <th>Label</th>\n",
       "      <th>URL_length</th>\n",
       "    </tr>\n",
       "  </thead>\n",
       "  <tbody>\n",
       "    <tr>\n",
       "      <th>0</th>\n",
       "      <td>6165</td>\n",
       "      <td>237</td>\n",
       "      <td>15</td>\n",
       "      <td>130</td>\n",
       "      <td>http://timesofindia.indiatimes.com/...</td>\n",
       "      <td>0</td>\n",
       "      <td>38</td>\n",
       "    </tr>\n",
       "    <tr>\n",
       "      <th>1</th>\n",
       "      <td>739</td>\n",
       "      <td>-1</td>\n",
       "      <td>-1</td>\n",
       "      <td>-1</td>\n",
       "      <td>http://www.winalitelatvia.lv/components/com_ba...</td>\n",
       "      <td>1</td>\n",
       "      <td>69</td>\n",
       "    </tr>\n",
       "    <tr>\n",
       "      <th>2</th>\n",
       "      <td>6532</td>\n",
       "      <td>189</td>\n",
       "      <td>3</td>\n",
       "      <td>373</td>\n",
       "      <td>http://www.4greatresumes.com/...</td>\n",
       "      <td>0</td>\n",
       "      <td>32</td>\n",
       "    </tr>\n",
       "    <tr>\n",
       "      <th>3</th>\n",
       "      <td>6089</td>\n",
       "      <td>13</td>\n",
       "      <td>11</td>\n",
       "      <td>21</td>\n",
       "      <td>http://www.cosureb.com/wp-content/g8634d010eac...</td>\n",
       "      <td>1</td>\n",
       "      <td>73</td>\n",
       "    </tr>\n",
       "    <tr>\n",
       "      <th>4</th>\n",
       "      <td>100</td>\n",
       "      <td>41</td>\n",
       "      <td>43</td>\n",
       "      <td>614</td>\n",
       "      <td>http://phalconwellness.com/2/online.wellsfargo...</td>\n",
       "      <td>1</td>\n",
       "      <td>73</td>\n",
       "    </tr>\n",
       "  </tbody>\n",
       "</table>\n",
       "</div>"
      ],
      "text/plain": [
       "   col_1  create_age(months)  expiry_age(months)  update_age(days)  \\\n",
       "0   6165                 237                  15               130   \n",
       "1    739                  -1                  -1                -1   \n",
       "2   6532                 189                   3               373   \n",
       "3   6089                  13                  11                21   \n",
       "4    100                  41                  43               614   \n",
       "\n",
       "                                                 URL  Label  URL_length  \n",
       "0             http://timesofindia.indiatimes.com/...      0          38  \n",
       "1  http://www.winalitelatvia.lv/components/com_ba...      1          69  \n",
       "2                   http://www.4greatresumes.com/...      0          32  \n",
       "3  http://www.cosureb.com/wp-content/g8634d010eac...      1          73  \n",
       "4  http://phalconwellness.com/2/online.wellsfargo...      1          73  "
      ]
     },
     "execution_count": 52,
     "metadata": {},
     "output_type": "execute_result"
    }
   ],
   "source": [
    "len_url = []\n",
    "\n",
    "for ur in clean_url:\n",
    "    len_url.append(len(ur))\n",
    "\n",
    "phish_data_1['URL_length'] = pd.Series(len_url)\n",
    "phish_data_1.head()"
   ]
  },
  {
   "cell_type": "code",
   "execution_count": 53,
   "metadata": {},
   "outputs": [
    {
     "data": {
      "text/html": [
       "<div>\n",
       "<style scoped>\n",
       "    .dataframe tbody tr th:only-of-type {\n",
       "        vertical-align: middle;\n",
       "    }\n",
       "\n",
       "    .dataframe tbody tr th {\n",
       "        vertical-align: top;\n",
       "    }\n",
       "\n",
       "    .dataframe thead th {\n",
       "        text-align: right;\n",
       "    }\n",
       "</style>\n",
       "<table border=\"1\" class=\"dataframe\">\n",
       "  <thead>\n",
       "    <tr style=\"text-align: right;\">\n",
       "      <th></th>\n",
       "      <th>col_1</th>\n",
       "      <th>create_age(months)</th>\n",
       "      <th>expiry_age(months)</th>\n",
       "      <th>update_age(days)</th>\n",
       "      <th>URL</th>\n",
       "      <th>Label</th>\n",
       "      <th>URL_length</th>\n",
       "      <th>URL_slashes</th>\n",
       "    </tr>\n",
       "  </thead>\n",
       "  <tbody>\n",
       "    <tr>\n",
       "      <th>0</th>\n",
       "      <td>6165</td>\n",
       "      <td>237</td>\n",
       "      <td>15</td>\n",
       "      <td>130</td>\n",
       "      <td>http://timesofindia.indiatimes.com/...</td>\n",
       "      <td>0</td>\n",
       "      <td>38</td>\n",
       "      <td>3</td>\n",
       "    </tr>\n",
       "    <tr>\n",
       "      <th>1</th>\n",
       "      <td>739</td>\n",
       "      <td>-1</td>\n",
       "      <td>-1</td>\n",
       "      <td>-1</td>\n",
       "      <td>http://www.winalitelatvia.lv/components/com_ba...</td>\n",
       "      <td>1</td>\n",
       "      <td>69</td>\n",
       "      <td>7</td>\n",
       "    </tr>\n",
       "    <tr>\n",
       "      <th>2</th>\n",
       "      <td>6532</td>\n",
       "      <td>189</td>\n",
       "      <td>3</td>\n",
       "      <td>373</td>\n",
       "      <td>http://www.4greatresumes.com/...</td>\n",
       "      <td>0</td>\n",
       "      <td>32</td>\n",
       "      <td>3</td>\n",
       "    </tr>\n",
       "    <tr>\n",
       "      <th>3</th>\n",
       "      <td>6089</td>\n",
       "      <td>13</td>\n",
       "      <td>11</td>\n",
       "      <td>21</td>\n",
       "      <td>http://www.cosureb.com/wp-content/g8634d010eac...</td>\n",
       "      <td>1</td>\n",
       "      <td>73</td>\n",
       "      <td>5</td>\n",
       "    </tr>\n",
       "    <tr>\n",
       "      <th>4</th>\n",
       "      <td>100</td>\n",
       "      <td>41</td>\n",
       "      <td>43</td>\n",
       "      <td>614</td>\n",
       "      <td>http://phalconwellness.com/2/online.wellsfargo...</td>\n",
       "      <td>1</td>\n",
       "      <td>73</td>\n",
       "      <td>4</td>\n",
       "    </tr>\n",
       "  </tbody>\n",
       "</table>\n",
       "</div>"
      ],
      "text/plain": [
       "   col_1  create_age(months)  expiry_age(months)  update_age(days)  \\\n",
       "0   6165                 237                  15               130   \n",
       "1    739                  -1                  -1                -1   \n",
       "2   6532                 189                   3               373   \n",
       "3   6089                  13                  11                21   \n",
       "4    100                  41                  43               614   \n",
       "\n",
       "                                                 URL  Label  URL_length  \\\n",
       "0             http://timesofindia.indiatimes.com/...      0          38   \n",
       "1  http://www.winalitelatvia.lv/components/com_ba...      1          69   \n",
       "2                   http://www.4greatresumes.com/...      0          32   \n",
       "3  http://www.cosureb.com/wp-content/g8634d010eac...      1          73   \n",
       "4  http://phalconwellness.com/2/online.wellsfargo...      1          73   \n",
       "\n",
       "   URL_slashes  \n",
       "0            3  \n",
       "1            7  \n",
       "2            3  \n",
       "3            5  \n",
       "4            4  "
      ]
     },
     "execution_count": 53,
     "metadata": {},
     "output_type": "execute_result"
    }
   ],
   "source": [
    "len_slashes = []\n",
    "\n",
    "for ur in clean_url:\n",
    "    len_slashes.append(ur.count('/') )\n",
    "\n",
    "phish_data_1['URL_slashes'] = pd.Series(len_slashes)\n",
    "phish_data_1.head()"
   ]
  },
  {
   "cell_type": "code",
   "execution_count": 54,
   "metadata": {},
   "outputs": [
    {
     "data": {
      "text/html": [
       "<div>\n",
       "<style scoped>\n",
       "    .dataframe tbody tr th:only-of-type {\n",
       "        vertical-align: middle;\n",
       "    }\n",
       "\n",
       "    .dataframe tbody tr th {\n",
       "        vertical-align: top;\n",
       "    }\n",
       "\n",
       "    .dataframe thead th {\n",
       "        text-align: right;\n",
       "    }\n",
       "</style>\n",
       "<table border=\"1\" class=\"dataframe\">\n",
       "  <thead>\n",
       "    <tr style=\"text-align: right;\">\n",
       "      <th></th>\n",
       "      <th>col_1</th>\n",
       "      <th>create_age(months)</th>\n",
       "      <th>expiry_age(months)</th>\n",
       "      <th>update_age(days)</th>\n",
       "      <th>URL</th>\n",
       "      <th>Label</th>\n",
       "      <th>URL_length</th>\n",
       "      <th>URL_slashes</th>\n",
       "      <th>URL_dots</th>\n",
       "    </tr>\n",
       "  </thead>\n",
       "  <tbody>\n",
       "    <tr>\n",
       "      <th>0</th>\n",
       "      <td>6165</td>\n",
       "      <td>237</td>\n",
       "      <td>15</td>\n",
       "      <td>130</td>\n",
       "      <td>http://timesofindia.indiatimes.com/...</td>\n",
       "      <td>0</td>\n",
       "      <td>38</td>\n",
       "      <td>3</td>\n",
       "      <td>5</td>\n",
       "    </tr>\n",
       "    <tr>\n",
       "      <th>1</th>\n",
       "      <td>739</td>\n",
       "      <td>-1</td>\n",
       "      <td>-1</td>\n",
       "      <td>-1</td>\n",
       "      <td>http://www.winalitelatvia.lv/components/com_ba...</td>\n",
       "      <td>1</td>\n",
       "      <td>69</td>\n",
       "      <td>7</td>\n",
       "      <td>5</td>\n",
       "    </tr>\n",
       "    <tr>\n",
       "      <th>2</th>\n",
       "      <td>6532</td>\n",
       "      <td>189</td>\n",
       "      <td>3</td>\n",
       "      <td>373</td>\n",
       "      <td>http://www.4greatresumes.com/...</td>\n",
       "      <td>0</td>\n",
       "      <td>32</td>\n",
       "      <td>3</td>\n",
       "      <td>5</td>\n",
       "    </tr>\n",
       "    <tr>\n",
       "      <th>3</th>\n",
       "      <td>6089</td>\n",
       "      <td>13</td>\n",
       "      <td>11</td>\n",
       "      <td>21</td>\n",
       "      <td>http://www.cosureb.com/wp-content/g8634d010eac...</td>\n",
       "      <td>1</td>\n",
       "      <td>73</td>\n",
       "      <td>5</td>\n",
       "      <td>6</td>\n",
       "    </tr>\n",
       "    <tr>\n",
       "      <th>4</th>\n",
       "      <td>100</td>\n",
       "      <td>41</td>\n",
       "      <td>43</td>\n",
       "      <td>614</td>\n",
       "      <td>http://phalconwellness.com/2/online.wellsfargo...</td>\n",
       "      <td>1</td>\n",
       "      <td>73</td>\n",
       "      <td>4</td>\n",
       "      <td>7</td>\n",
       "    </tr>\n",
       "  </tbody>\n",
       "</table>\n",
       "</div>"
      ],
      "text/plain": [
       "   col_1  create_age(months)  expiry_age(months)  update_age(days)  \\\n",
       "0   6165                 237                  15               130   \n",
       "1    739                  -1                  -1                -1   \n",
       "2   6532                 189                   3               373   \n",
       "3   6089                  13                  11                21   \n",
       "4    100                  41                  43               614   \n",
       "\n",
       "                                                 URL  Label  URL_length  \\\n",
       "0             http://timesofindia.indiatimes.com/...      0          38   \n",
       "1  http://www.winalitelatvia.lv/components/com_ba...      1          69   \n",
       "2                   http://www.4greatresumes.com/...      0          32   \n",
       "3  http://www.cosureb.com/wp-content/g8634d010eac...      1          73   \n",
       "4  http://phalconwellness.com/2/online.wellsfargo...      1          73   \n",
       "\n",
       "   URL_slashes  URL_dots  \n",
       "0            3         5  \n",
       "1            7         5  \n",
       "2            3         5  \n",
       "3            5         6  \n",
       "4            4         7  "
      ]
     },
     "execution_count": 54,
     "metadata": {},
     "output_type": "execute_result"
    }
   ],
   "source": [
    "len_dots = []\n",
    "\n",
    "for ur in clean_url:\n",
    "    len_dots.append(ur.count('.') )\n",
    "\n",
    "phish_data_1['URL_dots'] = pd.Series(len_dots)\n",
    "phish_data_1.head()"
   ]
  },
  {
   "cell_type": "code",
   "execution_count": 55,
   "metadata": {},
   "outputs": [
    {
     "data": {
      "text/html": [
       "<div>\n",
       "<style scoped>\n",
       "    .dataframe tbody tr th:only-of-type {\n",
       "        vertical-align: middle;\n",
       "    }\n",
       "\n",
       "    .dataframe tbody tr th {\n",
       "        vertical-align: top;\n",
       "    }\n",
       "\n",
       "    .dataframe thead th {\n",
       "        text-align: right;\n",
       "    }\n",
       "</style>\n",
       "<table border=\"1\" class=\"dataframe\">\n",
       "  <thead>\n",
       "    <tr style=\"text-align: right;\">\n",
       "      <th></th>\n",
       "      <th>col_1</th>\n",
       "      <th>create_age(months)</th>\n",
       "      <th>expiry_age(months)</th>\n",
       "      <th>update_age(days)</th>\n",
       "      <th>URL</th>\n",
       "      <th>Label</th>\n",
       "      <th>URL_length</th>\n",
       "      <th>URL_slashes</th>\n",
       "      <th>URL_dots</th>\n",
       "      <th>URL_host</th>\n",
       "    </tr>\n",
       "  </thead>\n",
       "  <tbody>\n",
       "    <tr>\n",
       "      <th>0</th>\n",
       "      <td>6165</td>\n",
       "      <td>237</td>\n",
       "      <td>15</td>\n",
       "      <td>130</td>\n",
       "      <td>http://timesofindia.indiatimes.com/...</td>\n",
       "      <td>0</td>\n",
       "      <td>38</td>\n",
       "      <td>3</td>\n",
       "      <td>5</td>\n",
       "      <td>3</td>\n",
       "    </tr>\n",
       "    <tr>\n",
       "      <th>1</th>\n",
       "      <td>739</td>\n",
       "      <td>-1</td>\n",
       "      <td>-1</td>\n",
       "      <td>-1</td>\n",
       "      <td>http://www.winalitelatvia.lv/components/com_ba...</td>\n",
       "      <td>1</td>\n",
       "      <td>69</td>\n",
       "      <td>7</td>\n",
       "      <td>5</td>\n",
       "      <td>6</td>\n",
       "    </tr>\n",
       "    <tr>\n",
       "      <th>2</th>\n",
       "      <td>6532</td>\n",
       "      <td>189</td>\n",
       "      <td>3</td>\n",
       "      <td>373</td>\n",
       "      <td>http://www.4greatresumes.com/...</td>\n",
       "      <td>0</td>\n",
       "      <td>32</td>\n",
       "      <td>3</td>\n",
       "      <td>5</td>\n",
       "      <td>2</td>\n",
       "    </tr>\n",
       "    <tr>\n",
       "      <th>3</th>\n",
       "      <td>6089</td>\n",
       "      <td>13</td>\n",
       "      <td>11</td>\n",
       "      <td>21</td>\n",
       "      <td>http://www.cosureb.com/wp-content/g8634d010eac...</td>\n",
       "      <td>1</td>\n",
       "      <td>73</td>\n",
       "      <td>5</td>\n",
       "      <td>6</td>\n",
       "      <td>5</td>\n",
       "    </tr>\n",
       "    <tr>\n",
       "      <th>4</th>\n",
       "      <td>100</td>\n",
       "      <td>41</td>\n",
       "      <td>43</td>\n",
       "      <td>614</td>\n",
       "      <td>http://phalconwellness.com/2/online.wellsfargo...</td>\n",
       "      <td>1</td>\n",
       "      <td>73</td>\n",
       "      <td>4</td>\n",
       "      <td>7</td>\n",
       "      <td>3</td>\n",
       "    </tr>\n",
       "  </tbody>\n",
       "</table>\n",
       "</div>"
      ],
      "text/plain": [
       "   col_1  create_age(months)  expiry_age(months)  update_age(days)  \\\n",
       "0   6165                 237                  15               130   \n",
       "1    739                  -1                  -1                -1   \n",
       "2   6532                 189                   3               373   \n",
       "3   6089                  13                  11                21   \n",
       "4    100                  41                  43               614   \n",
       "\n",
       "                                                 URL  Label  URL_length  \\\n",
       "0             http://timesofindia.indiatimes.com/...      0          38   \n",
       "1  http://www.winalitelatvia.lv/components/com_ba...      1          69   \n",
       "2                   http://www.4greatresumes.com/...      0          32   \n",
       "3  http://www.cosureb.com/wp-content/g8634d010eac...      1          73   \n",
       "4  http://phalconwellness.com/2/online.wellsfargo...      1          73   \n",
       "\n",
       "   URL_slashes  URL_dots  URL_host  \n",
       "0            3         5         3  \n",
       "1            7         5         6  \n",
       "2            3         5         2  \n",
       "3            5         6         5  \n",
       "4            4         7         3  "
      ]
     },
     "execution_count": 55,
     "metadata": {},
     "output_type": "execute_result"
    }
   ],
   "source": [
    "len_host = []\n",
    "\n",
    "start = '://'\n",
    "end = '/'\n",
    "#print s[s.find(start)+len(start):s.rfind(end)]\n",
    "\n",
    "for ur in clean_url:\n",
    "    temp = ur[ur.find(start)+2*len(start) + 2: ur.rfind(end)]\n",
    "    temp = temp.replace('/','.')\n",
    "    temp = temp.replace('-','.')\n",
    "    len_host.append(len(temp.split('.')))\n",
    "\n",
    "phish_data_1['URL_host'] = pd.Series(len_host)\n",
    "phish_data_1.head()"
   ]
  },
  {
   "cell_type": "code",
   "execution_count": null,
   "metadata": {},
   "outputs": [],
   "source": []
  },
  {
   "cell_type": "markdown",
   "metadata": {},
   "source": [
    "## Numerical features"
   ]
  },
  {
   "cell_type": "code",
   "execution_count": 56,
   "metadata": {},
   "outputs": [],
   "source": [
    "num_data = phish_data_1[['create_age(months)', 'expiry_age(months)', 'update_age(days)', 'URL_length', 'URL_slashes', 'URL_dots', 'URL_host']].values\n",
    "num_lab = phish_data_1[\"Label\"].values"
   ]
  },
  {
   "cell_type": "code",
   "execution_count": 57,
   "metadata": {},
   "outputs": [],
   "source": [
    "num_data_scaled = sscaler.transform(num_data)\n",
    "num_data = num_data_scaled #features for model 1"
   ]
  },
  {
   "cell_type": "code",
   "execution_count": 58,
   "metadata": {},
   "outputs": [],
   "source": [
    "## Final Model testing"
   ]
  },
  {
   "cell_type": "code",
   "execution_count": 59,
   "metadata": {},
   "outputs": [],
   "source": [
    "loaded_best_model_1 = pickle.load(open('best_model_1.sav', 'rb'))\n",
    "best_model_1_scores = loaded_best_model_1.predict_proba(num_data)[:,1]"
   ]
  },
  {
   "cell_type": "code",
   "execution_count": 60,
   "metadata": {},
   "outputs": [],
   "source": [
    "clean_url = phish_data_1[\"URL\"].map(lambda x: text_processor(x)).values"
   ]
  },
  {
   "cell_type": "code",
   "execution_count": 61,
   "metadata": {},
   "outputs": [],
   "source": [
    "loaded_best_model_2 = pickle.load(open('best_model_2.sav', 'rb'))\n",
    "best_model_2_scores = loaded_best_model_2.predict_proba(clean_url)[:,1]"
   ]
  },
  {
   "cell_type": "code",
   "execution_count": 62,
   "metadata": {},
   "outputs": [],
   "source": [
    "loaded_best_model_3 = load_model('lstm_url.h5')\n",
    "best_model_3_scores = loaded_best_model_3.predict_proba(data)\n",
    "best_model_3_scores = best_model_3_scores.reshape(len(best_model_3_scores),)"
   ]
  },
  {
   "cell_type": "code",
   "execution_count": 63,
   "metadata": {},
   "outputs": [],
   "source": [
    "best_fusion = best_model_1_scores + best_model_2_scores + best_model_3_scores"
   ]
  },
  {
   "cell_type": "code",
   "execution_count": 64,
   "metadata": {},
   "outputs": [
    {
     "name": "stdout",
     "output_type": "stream",
     "text": [
      "[[222  22]\n",
      " [ 19 236]]\n"
     ]
    }
   ],
   "source": [
    "fusion_pred = []\n",
    "\n",
    "for val in best_fusion:\n",
    "    if val > best_thr:\n",
    "        fusion_pred.append(1)\n",
    "    else:\n",
    "        fusion_pred.append(0)\n",
    "        \n",
    "fusion_pred = np.array(fusion_pred)\n",
    "\n",
    "print(confusion_matrix(num_lab, fusion_pred))"
   ]
  },
  {
   "cell_type": "code",
   "execution_count": 65,
   "metadata": {},
   "outputs": [
    {
     "name": "stdout",
     "output_type": "stream",
     "text": [
      "F1-score from model 1: \n",
      "0.9031007751937984\n",
      "[[216  28]\n",
      " [ 22 233]]\n",
      "\n",
      "F1-score from model 2: \n",
      "0.8999999999999999\n",
      "[[235   9]\n",
      " [ 39 216]]\n",
      "\n",
      "F1-score from model 3: \n",
      "0.8599605522682445\n",
      "[[210  34]\n",
      " [ 37 218]]\n",
      "\n",
      "F1-score from combined model: \n",
      "0.9200779727095515\n",
      "[[222  22]\n",
      " [ 19 236]]\n"
     ]
    }
   ],
   "source": [
    "print('F1-score from model 1: ')\n",
    "print(f1_score(num_lab, loaded_best_model_1.predict(num_data)))\n",
    "print(confusion_matrix(num_lab, loaded_best_model_1.predict(num_data)))\n",
    "print('')\n",
    "print('F1-score from model 2: ')\n",
    "print(f1_score(num_lab, loaded_best_model_2.predict(clean_url)))\n",
    "print(confusion_matrix(num_lab, loaded_best_model_2.predict(clean_url)))\n",
    "print('')\n",
    "print('F1-score from model 3: ')\n",
    "print(f1_score(num_lab, loaded_best_model_3.predict_classes(data)))\n",
    "print(confusion_matrix(num_lab, loaded_best_model_3.predict_classes(data)))\n",
    "\n",
    "print('')\n",
    "print('F1-score from combined model: ')\n",
    "print(f1_score(num_lab, fusion_pred))\n",
    "print(confusion_matrix(num_lab, fusion_pred))\n",
    "\n",
    "\n"
   ]
  },
  {
   "cell_type": "code",
   "execution_count": null,
   "metadata": {},
   "outputs": [],
   "source": []
  }
 ],
 "metadata": {
  "kernelspec": {
   "display_name": "Python 3",
   "language": "python",
   "name": "python3"
  },
  "language_info": {
   "codemirror_mode": {
    "name": "ipython",
    "version": 3
   },
   "file_extension": ".py",
   "mimetype": "text/x-python",
   "name": "python",
   "nbconvert_exporter": "python",
   "pygments_lexer": "ipython3",
   "version": "3.6.7"
  }
 },
 "nbformat": 4,
 "nbformat_minor": 4
}
