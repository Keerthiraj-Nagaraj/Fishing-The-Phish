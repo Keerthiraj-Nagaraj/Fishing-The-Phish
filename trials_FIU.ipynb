{
 "cells": [
  {
   "cell_type": "markdown",
   "metadata": {},
   "source": [
    "# Phishing URL Detection\n",
    "\n",
    "\n",
    "From Wikipedia, https://en.wikipedia.org/wiki/Phishing\n",
    "\n",
    "> Phishing is the fraudulent attempt to obtain sensitive information such as usernames, passwords and credit card details, often for malicious reasons, by disguising as a trustworthy entity in an electronic communication. The word is a neologism created as a homophone of fishing due to the similarity of using a bait in an attempt to catch a victim. The annual worldwide impact of phishing could be as high as US$5 billion.\n",
    ">\n",
    "> Phishing is typically carried out by email spoofing or instant messaging, and it often directs users to enter personal information at a fake website, the look and feel of which are identical to the legitimate site, the only difference being the URL of the website in concern. Communications purporting to be from social web sites, auction sites, banks, online payment processors or IT administrators are often used to lure victims. Phishing emails may contain links to websites that distribute malware.\n",
    ">\n",
    "> Phishing is an example of social engineering techniques used to deceive users, and it exploits weaknesses in current web security. Attempts to deal with the growing number of reported phishing incidents include legislation, user training, public awareness, and technical security measures."
   ]
  },
  {
   "cell_type": "markdown",
   "metadata": {},
   "source": [
    "Here's an example of a real phishing email sent in 2011 by attackers looking to get login credentials for Facebook users:\n",
    "\n",
    "<pre>\n",
    "LAST WARNING : Your account is reported to have violated the policies that are considered annoying or insulting Facebook users.\n",
    "\n",
    "Until we system will disable your account within 24 hours if you do not do the reconfirmation.\n",
    "\n",
    "Please confirm your account below:\n",
    "\n",
    "[ Link Removed ]\n",
    "\n",
    "Thanks.\n",
    "The Facebook Team\n",
    "Copyright facebook © 2011 Inc. All rights reserved.\n",
    "</pre>\n",
    "\n",
    "A victim clicking on the Phishing link would be taken to a site that looked like a pretty good copy of the Facebook login screen.\n",
    "\n",
    "<img src=\"images/Not_Facebook.png\">"
   ]
  },
  {
   "cell_type": "markdown",
   "metadata": {},
   "source": [
    "Here are some examples of the links used in emails sent by the attackers running this phishing campaign:\n",
    "\n",
    "**Note**: These links may be dangerous to your computer. Our practice will be to \"neuter\" links by wrapping certain characters with square brackets so that you cannot click on these links, or accidentally copy/paste them into your browser.\n",
    "\n",
    "**CAUTION: DO NOT CLICK ON OR VISIT THESE LINKS!!**\n",
    "<pre>\n",
    "http[:]//team-welcome[.]at[.]ua/facebook-support[.]html\n",
    "http[:]//reportedpages[.]at[.]ua/facebook-support-account[.]html\n",
    "http[:]//www[.]facebooks[.]cloud/PayPlls[.]CEanada[.]tNZnZZlR3ZdyZZ-5RkZZDRTZZBy\n",
    "http[:]//www[.]greenaura[.]net/appz[.]westpac/westpac[.]appz/login[.]php\n",
    "http[:]//www[.]irastrum[.]com/wp-admin/mail[.]yahoo[.]com/\n",
    "http[:]//appleid[.]apple[.]com-subscriptions[.]manager508158125[.]kevinfoley[.]com\n",
    "</pre>\n",
    "**CAUTION: DO NOT CLICK ON OR VISIT THESE LINKS!!**\n",
    "\n",
    "\n",
    "Something smells a little phishy about these links. Given a close look by a human, you'd probably be able to decide pretty quickly if the link was really sent by Facebook or not. But billions of people get hundreds or thousands of emails each every day! How can defenders keep up with the onslaught by the phishers?\n",
    "\n",
    "## The Problem\n",
    "\n",
    "We want to use methods from Machine Learning to build a computer program that will automatically flag links it thinks are phishing attempts. We can do this by studying the problem, looking at data, and learning a decision rule.\n",
    "\n",
    "The dataset we will be using is named \"FIU_Phishing_Mitre_Dataset.csv\" and a testing dataset (without labels) is named \"Test_FIU_Phishing_Mitre_Dataset.csv\".\n",
    "#### Analyze the data, build features, or use the existing features in the data to build a model, and report your findings. We will use the F1 score to evaluate the final models from participants using a test set that we have set aside. \n",
    "\n",
    "##### Please email your final models to Ali Zaidi (szaidi@mitre.org) so that they can be run on the test set and evaluated in the competition. If you need help with the challenge, please find the Mitre table and the challenge organizers will be available to assist you. "
   ]
  },
  {
   "cell_type": "markdown",
   "metadata": {},
   "source": [
    "## Explore Some Data\n",
    "\n",
    "Let's take a look at the provided features on our set of URLs. \n",
    "\n",
    "* Create Age (in Months): The age of the domain. If the value is -1, that information is not available or the domain has been deleted. \n",
    "* Expiry Age (in Months): The amount of months until the domain expires. If the value is negative, that information is not available or the domain has been deleted.\n",
    "* Update Age (in Days): The last time the domain was updated. If the value is -1, that information is not available or the domain was deleted.\n",
    "* URL: The URL of the website. Three periods have been added to the end of each URL to prevent the URL from being clicked for security purposes. \n",
    "* Label: A label to determine whether a website is a phishing link or not. 0 denotes a website that is not a phishing link, 1 denotes a website is a phishing link. "
   ]
  },
  {
   "cell_type": "code",
   "execution_count": 1,
   "metadata": {},
   "outputs": [],
   "source": [
    "# Import relevant libraries\n",
    "%matplotlib inline\n",
    "import numpy as np\n",
    "import matplotlib.pyplot as plt\n",
    "import pandas as pd\n",
    "import seaborn as sns\n",
    "\n",
    "sns.set()"
   ]
  },
  {
   "cell_type": "code",
   "execution_count": 2,
   "metadata": {},
   "outputs": [],
   "source": [
    "from sklearn.linear_model import LogisticRegression\n",
    "\n",
    "from sklearn.metrics import confusion_matrix\n",
    "from sklearn.metrics import classification_report\n",
    "\n",
    "from sklearn.metrics import f1_score\n",
    "from sklearn.model_selection import train_test_split"
   ]
  },
  {
   "cell_type": "code",
   "execution_count": 3,
   "metadata": {},
   "outputs": [],
   "source": [
    "from sklearn.preprocessing import StandardScaler\n",
    "from sklearn.neural_network import MLPClassifier\n",
    "from sklearn.neighbors import KNeighborsClassifier\n",
    "from sklearn.svm import SVC\n",
    "from sklearn.gaussian_process import GaussianProcessClassifier\n",
    "from sklearn.gaussian_process.kernels import RBF\n",
    "from sklearn.tree import DecisionTreeClassifier\n",
    "from sklearn.ensemble import RandomForestClassifier, AdaBoostClassifier\n",
    "from sklearn.naive_bayes import GaussianNB\n",
    "from sklearn.discriminant_analysis import QuadraticDiscriminantAnalysis"
   ]
  },
  {
   "cell_type": "code",
   "execution_count": 4,
   "metadata": {},
   "outputs": [],
   "source": [
    "phish_data = pd.read_csv(\"FIU_Phishing_Mitre_Dataset.csv\")"
   ]
  },
  {
   "cell_type": "code",
   "execution_count": 5,
   "metadata": {},
   "outputs": [
    {
     "data": {
      "text/html": [
       "<div>\n",
       "<style scoped>\n",
       "    .dataframe tbody tr th:only-of-type {\n",
       "        vertical-align: middle;\n",
       "    }\n",
       "\n",
       "    .dataframe tbody tr th {\n",
       "        vertical-align: top;\n",
       "    }\n",
       "\n",
       "    .dataframe thead th {\n",
       "        text-align: right;\n",
       "    }\n",
       "</style>\n",
       "<table border=\"1\" class=\"dataframe\">\n",
       "  <thead>\n",
       "    <tr style=\"text-align: right;\">\n",
       "      <th></th>\n",
       "      <th>col_1</th>\n",
       "      <th>create_age(months)</th>\n",
       "      <th>expiry_age(months)</th>\n",
       "      <th>update_age(days)</th>\n",
       "      <th>URL</th>\n",
       "      <th>Label</th>\n",
       "    </tr>\n",
       "  </thead>\n",
       "  <tbody>\n",
       "    <tr>\n",
       "      <th>0</th>\n",
       "      <td>642</td>\n",
       "      <td>-1</td>\n",
       "      <td>-1</td>\n",
       "      <td>-1</td>\n",
       "      <td>http://account-google-com.ngate.my/c44cca40176...</td>\n",
       "      <td>1</td>\n",
       "    </tr>\n",
       "    <tr>\n",
       "      <th>1</th>\n",
       "      <td>2968</td>\n",
       "      <td>212</td>\n",
       "      <td>16</td>\n",
       "      <td>663</td>\n",
       "      <td>http://www.coffeespecialties.com/...</td>\n",
       "      <td>0</td>\n",
       "    </tr>\n",
       "    <tr>\n",
       "      <th>2</th>\n",
       "      <td>2401</td>\n",
       "      <td>-1</td>\n",
       "      <td>-1</td>\n",
       "      <td>-1</td>\n",
       "      <td>http://black.pk/wp-content/2013/04/bp.postale/...</td>\n",
       "      <td>1</td>\n",
       "    </tr>\n",
       "    <tr>\n",
       "      <th>3</th>\n",
       "      <td>5337</td>\n",
       "      <td>198</td>\n",
       "      <td>6</td>\n",
       "      <td>186</td>\n",
       "      <td>http://atomicsoda.com/manutd...</td>\n",
       "      <td>0</td>\n",
       "    </tr>\n",
       "    <tr>\n",
       "      <th>4</th>\n",
       "      <td>6538</td>\n",
       "      <td>240</td>\n",
       "      <td>24</td>\n",
       "      <td>1684</td>\n",
       "      <td>http://bostoncoffeecake.com/...</td>\n",
       "      <td>0</td>\n",
       "    </tr>\n",
       "  </tbody>\n",
       "</table>\n",
       "</div>"
      ],
      "text/plain": [
       "   col_1  create_age(months)  expiry_age(months)  update_age(days)  \\\n",
       "0    642                  -1                  -1                -1   \n",
       "1   2968                 212                  16               663   \n",
       "2   2401                  -1                  -1                -1   \n",
       "3   5337                 198                   6               186   \n",
       "4   6538                 240                  24              1684   \n",
       "\n",
       "                                                 URL  Label  \n",
       "0  http://account-google-com.ngate.my/c44cca40176...      1  \n",
       "1               http://www.coffeespecialties.com/...      0  \n",
       "2  http://black.pk/wp-content/2013/04/bp.postale/...      1  \n",
       "3                    http://atomicsoda.com/manutd...      0  \n",
       "4                    http://bostoncoffeecake.com/...      0  "
      ]
     },
     "execution_count": 5,
     "metadata": {},
     "output_type": "execute_result"
    }
   ],
   "source": [
    "phish_data.head()"
   ]
  },
  {
   "cell_type": "code",
   "execution_count": 6,
   "metadata": {},
   "outputs": [
    {
     "data": {
      "text/html": [
       "<div>\n",
       "<style scoped>\n",
       "    .dataframe tbody tr th:only-of-type {\n",
       "        vertical-align: middle;\n",
       "    }\n",
       "\n",
       "    .dataframe tbody tr th {\n",
       "        vertical-align: top;\n",
       "    }\n",
       "\n",
       "    .dataframe thead th {\n",
       "        text-align: right;\n",
       "    }\n",
       "</style>\n",
       "<table border=\"1\" class=\"dataframe\">\n",
       "  <thead>\n",
       "    <tr style=\"text-align: right;\">\n",
       "      <th></th>\n",
       "      <th>col_1</th>\n",
       "      <th>create_age(months)</th>\n",
       "      <th>expiry_age(months)</th>\n",
       "      <th>update_age(days)</th>\n",
       "      <th>Label</th>\n",
       "    </tr>\n",
       "  </thead>\n",
       "  <tbody>\n",
       "    <tr>\n",
       "      <th>count</th>\n",
       "      <td>4799.000000</td>\n",
       "      <td>4799.000000</td>\n",
       "      <td>4799.000000</td>\n",
       "      <td>4799.000000</td>\n",
       "      <td>4799.000000</td>\n",
       "    </tr>\n",
       "    <tr>\n",
       "      <th>mean</th>\n",
       "      <td>3473.695770</td>\n",
       "      <td>91.288810</td>\n",
       "      <td>12.264430</td>\n",
       "      <td>272.264638</td>\n",
       "      <td>0.532403</td>\n",
       "    </tr>\n",
       "    <tr>\n",
       "      <th>std</th>\n",
       "      <td>2024.044648</td>\n",
       "      <td>92.868921</td>\n",
       "      <td>20.033764</td>\n",
       "      <td>618.276458</td>\n",
       "      <td>0.499001</td>\n",
       "    </tr>\n",
       "    <tr>\n",
       "      <th>min</th>\n",
       "      <td>1.000000</td>\n",
       "      <td>-1.000000</td>\n",
       "      <td>-78.000000</td>\n",
       "      <td>-115.000000</td>\n",
       "      <td>0.000000</td>\n",
       "    </tr>\n",
       "    <tr>\n",
       "      <th>25%</th>\n",
       "      <td>1729.500000</td>\n",
       "      <td>-1.000000</td>\n",
       "      <td>-1.000000</td>\n",
       "      <td>-1.000000</td>\n",
       "      <td>0.000000</td>\n",
       "    </tr>\n",
       "    <tr>\n",
       "      <th>50%</th>\n",
       "      <td>3420.000000</td>\n",
       "      <td>56.000000</td>\n",
       "      <td>7.000000</td>\n",
       "      <td>91.000000</td>\n",
       "      <td>1.000000</td>\n",
       "    </tr>\n",
       "    <tr>\n",
       "      <th>75%</th>\n",
       "      <td>5241.000000</td>\n",
       "      <td>188.000000</td>\n",
       "      <td>12.000000</td>\n",
       "      <td>292.500000</td>\n",
       "      <td>1.000000</td>\n",
       "    </tr>\n",
       "    <tr>\n",
       "      <th>max</th>\n",
       "      <td>6999.000000</td>\n",
       "      <td>365.000000</td>\n",
       "      <td>120.000000</td>\n",
       "      <td>9959.000000</td>\n",
       "      <td>1.000000</td>\n",
       "    </tr>\n",
       "  </tbody>\n",
       "</table>\n",
       "</div>"
      ],
      "text/plain": [
       "             col_1  create_age(months)  expiry_age(months)  update_age(days)  \\\n",
       "count  4799.000000         4799.000000         4799.000000       4799.000000   \n",
       "mean   3473.695770           91.288810           12.264430        272.264638   \n",
       "std    2024.044648           92.868921           20.033764        618.276458   \n",
       "min       1.000000           -1.000000          -78.000000       -115.000000   \n",
       "25%    1729.500000           -1.000000           -1.000000         -1.000000   \n",
       "50%    3420.000000           56.000000            7.000000         91.000000   \n",
       "75%    5241.000000          188.000000           12.000000        292.500000   \n",
       "max    6999.000000          365.000000          120.000000       9959.000000   \n",
       "\n",
       "             Label  \n",
       "count  4799.000000  \n",
       "mean      0.532403  \n",
       "std       0.499001  \n",
       "min       0.000000  \n",
       "25%       0.000000  \n",
       "50%       1.000000  \n",
       "75%       1.000000  \n",
       "max       1.000000  "
      ]
     },
     "execution_count": 6,
     "metadata": {},
     "output_type": "execute_result"
    }
   ],
   "source": [
    "phish_data.describe()"
   ]
  },
  {
   "cell_type": "code",
   "execution_count": 7,
   "metadata": {},
   "outputs": [
    {
     "data": {
      "text/html": [
       "<div>\n",
       "<style scoped>\n",
       "    .dataframe tbody tr th:only-of-type {\n",
       "        vertical-align: middle;\n",
       "    }\n",
       "\n",
       "    .dataframe tbody tr th {\n",
       "        vertical-align: top;\n",
       "    }\n",
       "\n",
       "    .dataframe thead th {\n",
       "        text-align: right;\n",
       "    }\n",
       "</style>\n",
       "<table border=\"1\" class=\"dataframe\">\n",
       "  <thead>\n",
       "    <tr style=\"text-align: right;\">\n",
       "      <th></th>\n",
       "      <th>col_1</th>\n",
       "      <th>create_age(months)</th>\n",
       "      <th>expiry_age(months)</th>\n",
       "      <th>update_age(days)</th>\n",
       "      <th>URL</th>\n",
       "      <th>Label</th>\n",
       "      <th>update_age(months)</th>\n",
       "    </tr>\n",
       "  </thead>\n",
       "  <tbody>\n",
       "    <tr>\n",
       "      <th>0</th>\n",
       "      <td>642</td>\n",
       "      <td>-1</td>\n",
       "      <td>-1</td>\n",
       "      <td>-1</td>\n",
       "      <td>http://account-google-com.ngate.my/c44cca40176...</td>\n",
       "      <td>1</td>\n",
       "      <td>-0.033333</td>\n",
       "    </tr>\n",
       "    <tr>\n",
       "      <th>1</th>\n",
       "      <td>2968</td>\n",
       "      <td>212</td>\n",
       "      <td>16</td>\n",
       "      <td>663</td>\n",
       "      <td>http://www.coffeespecialties.com/...</td>\n",
       "      <td>0</td>\n",
       "      <td>22.100000</td>\n",
       "    </tr>\n",
       "    <tr>\n",
       "      <th>2</th>\n",
       "      <td>2401</td>\n",
       "      <td>-1</td>\n",
       "      <td>-1</td>\n",
       "      <td>-1</td>\n",
       "      <td>http://black.pk/wp-content/2013/04/bp.postale/...</td>\n",
       "      <td>1</td>\n",
       "      <td>-0.033333</td>\n",
       "    </tr>\n",
       "    <tr>\n",
       "      <th>3</th>\n",
       "      <td>5337</td>\n",
       "      <td>198</td>\n",
       "      <td>6</td>\n",
       "      <td>186</td>\n",
       "      <td>http://atomicsoda.com/manutd...</td>\n",
       "      <td>0</td>\n",
       "      <td>6.200000</td>\n",
       "    </tr>\n",
       "    <tr>\n",
       "      <th>4</th>\n",
       "      <td>6538</td>\n",
       "      <td>240</td>\n",
       "      <td>24</td>\n",
       "      <td>1684</td>\n",
       "      <td>http://bostoncoffeecake.com/...</td>\n",
       "      <td>0</td>\n",
       "      <td>56.133333</td>\n",
       "    </tr>\n",
       "  </tbody>\n",
       "</table>\n",
       "</div>"
      ],
      "text/plain": [
       "   col_1  create_age(months)  expiry_age(months)  update_age(days)  \\\n",
       "0    642                  -1                  -1                -1   \n",
       "1   2968                 212                  16               663   \n",
       "2   2401                  -1                  -1                -1   \n",
       "3   5337                 198                   6               186   \n",
       "4   6538                 240                  24              1684   \n",
       "\n",
       "                                                 URL  Label  \\\n",
       "0  http://account-google-com.ngate.my/c44cca40176...      1   \n",
       "1               http://www.coffeespecialties.com/...      0   \n",
       "2  http://black.pk/wp-content/2013/04/bp.postale/...      1   \n",
       "3                    http://atomicsoda.com/manutd...      0   \n",
       "4                    http://bostoncoffeecake.com/...      0   \n",
       "\n",
       "   update_age(months)  \n",
       "0           -0.033333  \n",
       "1           22.100000  \n",
       "2           -0.033333  \n",
       "3            6.200000  \n",
       "4           56.133333  "
      ]
     },
     "execution_count": 7,
     "metadata": {},
     "output_type": "execute_result"
    }
   ],
   "source": [
    "phish_data[\"update_age(months)\"] = phish_data[\"update_age(days)\"].values/30\n",
    "phish_data.head()"
   ]
  },
  {
   "cell_type": "code",
   "execution_count": 8,
   "metadata": {},
   "outputs": [],
   "source": [
    "num_data = phish_data.iloc[:,[0,1,2,6]].values\n",
    "num_lab = phish_data[\"Label\"].values"
   ]
  },
  {
   "cell_type": "code",
   "execution_count": null,
   "metadata": {},
   "outputs": [],
   "source": []
  },
  {
   "cell_type": "code",
   "execution_count": 9,
   "metadata": {},
   "outputs": [],
   "source": [
    "col_1 = num_data[:,0]\n",
    "create = num_data[:,1]\n",
    "expiry = num_data[:,2]\n",
    "update = num_data[:,3]\n"
   ]
  },
  {
   "cell_type": "code",
   "execution_count": 10,
   "metadata": {},
   "outputs": [
    {
     "data": {
      "image/png": "[encoded data removed]",
      "text/plain": [
       "<Figure size 432x288 with 4 Axes>"
      ]
     },
     "metadata": {
      "needs_background": "light"
     },
     "output_type": "display_data"
    }
   ],
   "source": [
    "plt.subplot(2, 2, 1)\n",
    "plt.plot(col_1, '.')\n",
    "\n",
    "plt.xlabel('sample')\n",
    "plt.ylabel('col_1')\n",
    "plt.grid(True)\n",
    "\n",
    "plt.subplot(2, 2, 2)\n",
    "plt.plot(create, '.')\n",
    "\n",
    "plt.xlabel('sample')\n",
    "plt.ylabel('create')\n",
    "plt.grid(True)\n",
    "\n",
    "plt.subplot(2, 2, 3)\n",
    "plt.plot(expiry, '.')\n",
    "\n",
    "plt.xlabel('sample')\n",
    "plt.ylabel('expiry')\n",
    "plt.grid(True)\n",
    "\n",
    "plt.subplot(2, 2, 4)\n",
    "plt.plot(update, '.')\n",
    "\n",
    "plt.xlabel('sample')\n",
    "plt.ylabel('update')\n",
    "plt.grid(True)"
   ]
  },
  {
   "cell_type": "code",
   "execution_count": 11,
   "metadata": {},
   "outputs": [
    {
     "data": {
      "image/png": "[encoded data removed]",
      "text/plain": [
       "<Figure size 432x288 with 4 Axes>"
      ]
     },
     "metadata": {
      "needs_background": "light"
     },
     "output_type": "display_data"
    }
   ],
   "source": [
    "plt.subplot(2, 2, 1)\n",
    "plt.hist(col_1, bins = 50)\n",
    "\n",
    "plt.xlabel('sample')\n",
    "plt.ylabel('HIST - col_1')\n",
    "plt.grid(True)\n",
    "\n",
    "plt.subplot(2, 2, 2)\n",
    "plt.hist(create, bins = 50)\n",
    "\n",
    "plt.xlabel('sample')\n",
    "plt.ylabel('HIST - create')\n",
    "plt.grid(True)\n",
    "\n",
    "plt.subplot(2, 2, 3)\n",
    "plt.hist(expiry, bins = 50)\n",
    "\n",
    "plt.xlabel('sample')\n",
    "plt.ylabel('HIST - expiry')\n",
    "plt.grid(True)\n",
    "\n",
    "plt.subplot(2, 2, 4)\n",
    "plt.hist(update, bins = 50)\n",
    "\n",
    "plt.xlabel('sample')\n",
    "plt.ylabel('HIST - update')\n",
    "plt.grid(True)"
   ]
  },
  {
   "cell_type": "code",
   "execution_count": 12,
   "metadata": {},
   "outputs": [],
   "source": [
    "num_data_scaled = StandardScaler().fit_transform(num_data)"
   ]
  },
  {
   "cell_type": "code",
   "execution_count": 13,
   "metadata": {},
   "outputs": [],
   "source": [
    "X_train, X_test, y_train, y_test = train_test_split(num_data_scaled, num_lab, test_size = 0.2, random_state = 42)"
   ]
  },
  {
   "cell_type": "code",
   "execution_count": null,
   "metadata": {},
   "outputs": [],
   "source": []
  },
  {
   "cell_type": "code",
   "execution_count": 14,
   "metadata": {},
   "outputs": [
    {
     "name": "stderr",
     "output_type": "stream",
     "text": [
      "C:\\Users\\keert\\Anaconda3\\lib\\site-packages\\sklearn\\linear_model\\logistic.py:433: FutureWarning: Default solver will be changed to 'lbfgs' in 0.22. Specify a solver to silence this warning.\n",
      "  FutureWarning)\n"
     ]
    },
    {
     "data": {
      "text/plain": [
       "LogisticRegression(C=1.0, class_weight=None, dual=False, fit_intercept=True,\n",
       "          intercept_scaling=1, max_iter=100, multi_class='warn',\n",
       "          n_jobs=None, penalty='l2', random_state=None, solver='warn',\n",
       "          tol=0.0001, verbose=0, warm_start=False)"
      ]
     },
     "execution_count": 14,
     "metadata": {},
     "output_type": "execute_result"
    }
   ],
   "source": [
    "#load the model\n",
    "clf = LogisticRegression()\n",
    "#fit the model\n",
    "clf.fit(X_train, y_train)"
   ]
  },
  {
   "cell_type": "code",
   "execution_count": 15,
   "metadata": {},
   "outputs": [
    {
     "name": "stdout",
     "output_type": "stream",
     "text": [
      "0.8197916666666667\n",
      "Done\n"
     ]
    }
   ],
   "source": [
    "#evaluate the model by using a test set\n",
    "y_hat = clf.predict(X_test)\n",
    "#print the accuracy\n",
    "print(np.average(y_hat == y_test))\n",
    "\n",
    "print('Done')"
   ]
  },
  {
   "cell_type": "code",
   "execution_count": 16,
   "metadata": {},
   "outputs": [
    {
     "name": "stdout",
     "output_type": "stream",
     "text": [
      "0.8344497607655503\n",
      "Done\n"
     ]
    }
   ],
   "source": [
    "\n",
    "print(f1_score(y_test, y_hat))\n",
    "\n",
    "print('Done')"
   ]
  },
  {
   "cell_type": "code",
   "execution_count": 17,
   "metadata": {},
   "outputs": [
    {
     "name": "stdout",
     "output_type": "stream",
     "text": [
      "              precision    recall  f1-score   support\n",
      "\n",
      "Not Phishing       0.88      0.74      0.80       474\n",
      "    Phishing       0.78      0.90      0.83       486\n",
      "\n",
      "   micro avg       0.82      0.82      0.82       960\n",
      "   macro avg       0.83      0.82      0.82       960\n",
      "weighted avg       0.83      0.82      0.82       960\n",
      "\n"
     ]
    }
   ],
   "source": [
    "target_names = [\"Not Phishing\", \"Phishing\"]\n",
    "print(classification_report(y_test, y_hat, target_names=target_names))"
   ]
  },
  {
   "cell_type": "code",
   "execution_count": 18,
   "metadata": {},
   "outputs": [
    {
     "data": {
      "text/plain": [
       "array([[351, 123],\n",
       "       [ 50, 436]], dtype=int64)"
      ]
     },
     "execution_count": 18,
     "metadata": {},
     "output_type": "execute_result"
    }
   ],
   "source": [
    "confusion_matrix(y_test, y_hat)"
   ]
  },
  {
   "cell_type": "code",
   "execution_count": null,
   "metadata": {},
   "outputs": [],
   "source": []
  },
  {
   "cell_type": "code",
   "execution_count": 19,
   "metadata": {},
   "outputs": [],
   "source": [
    "names = [\"Nearest Neighbors\", \"Linear SVM\", \"RBF SVM\", \"Gaussian Process\",\n",
    "         \"Decision Tree\", \"Random Forest\", \"Neural Net\", \"AdaBoost\",\n",
    "         \"Naive Bayes\", \"QDA\"]\n",
    "\n",
    "classifiers = [\n",
    "    KNeighborsClassifier(3),\n",
    "    SVC(kernel=\"linear\", C=0.025),\n",
    "    SVC(gamma=2, C=1),\n",
    "    GaussianProcessClassifier(1.0 * RBF(1.0)),\n",
    "    DecisionTreeClassifier(max_depth=5),\n",
    "    RandomForestClassifier(max_depth=5, n_estimators=10, max_features=1),\n",
    "    MLPClassifier(alpha=1, max_iter=500),\n",
    "    AdaBoostClassifier(),\n",
    "    GaussianNB(),\n",
    "    QuadraticDiscriminantAnalysis()]\n"
   ]
  },
  {
   "cell_type": "code",
   "execution_count": 20,
   "metadata": {},
   "outputs": [
    {
     "name": "stdout",
     "output_type": "stream",
     "text": [
      "Nearest Neighbors\n",
      "Done\n",
      "Linear SVM\n",
      "Done\n",
      "RBF SVM\n",
      "Done\n",
      "Gaussian Process\n",
      "Done\n",
      "Decision Tree\n",
      "Done\n",
      "Random Forest\n",
      "Done\n",
      "Neural Net\n",
      "Done\n",
      "AdaBoost\n",
      "Done\n",
      "Naive Bayes\n",
      "Done\n",
      "QDA\n",
      "Done\n",
      "Done\n"
     ]
    }
   ],
   "source": [
    "f1_vals = []\n",
    "\n",
    "for name, clf in zip(names, classifiers):\n",
    "    \n",
    "    print(name)\n",
    "    clf.fit(X_train, y_train)\n",
    "    score = clf.score(X_test, y_test)\n",
    "    y_hat = clf.predict(X_test)\n",
    "    \n",
    "    f1_vals.append(f1_score(y_test, y_hat))\n",
    "    \n",
    "    print(\"Done\")\n",
    "    \n",
    "print(\"Done\")\n",
    "    "
   ]
  },
  {
   "cell_type": "code",
   "execution_count": 23,
   "metadata": {},
   "outputs": [
    {
     "data": {
      "text/plain": [
       "([<matplotlib.axis.XTick at 0x2a7ad853978>,\n",
       "  <matplotlib.axis.XTick at 0x2a7ad8535c0>,\n",
       "  <matplotlib.axis.XTick at 0x2a7ad82f9b0>,\n",
       "  <matplotlib.axis.XTick at 0x2a7ad883780>,\n",
       "  <matplotlib.axis.XTick at 0x2a7ad883c50>,\n",
       "  <matplotlib.axis.XTick at 0x2a7ad883a90>,\n",
       "  <matplotlib.axis.XTick at 0x2a7ad88b630>,\n",
       "  <matplotlib.axis.XTick at 0x2a7ad88bb00>,\n",
       "  <matplotlib.axis.XTick at 0x2a7ad88be80>,\n",
       "  <matplotlib.axis.XTick at 0x2a7ad8944e0>],\n",
       " <a list of 10 Text xticklabel objects>)"
      ]
     },
     "execution_count": 23,
     "metadata": {},
     "output_type": "execute_result"
    },
    {
     "data": {
      "image/png": "[encoded data removed]",
      "text/plain": [
       "<Figure size 432x288 with 1 Axes>"
      ]
     },
     "metadata": {
      "needs_background": "light"
     },
     "output_type": "display_data"
    }
   ],
   "source": [
    "x = np.arange(0,len(f1_vals))\n",
    "\n",
    "plt.plot(x, f1_vals)\n",
    "\n",
    "# You can specify a rotation for the tick labels in degrees or with keywords.\n",
    "plt.xticks(x, names, rotation='vertical')\n"
   ]
  },
  {
   "cell_type": "code",
   "execution_count": null,
   "metadata": {},
   "outputs": [],
   "source": []
  },
  {
   "cell_type": "code",
   "execution_count": null,
   "metadata": {},
   "outputs": [],
   "source": []
  }
 ],
 "metadata": {
  "kernelspec": {
   "display_name": "Python 3",
   "language": "python",
   "name": "python3"
  },
  "language_info": {
   "codemirror_mode": {
    "name": "ipython",
    "version": 3
   },
   "file_extension": ".py",
   "mimetype": "text/x-python",
   "name": "python",
   "nbconvert_exporter": "python",
   "pygments_lexer": "ipython3",
   "version": "3.6.7"
  }
 },
 "nbformat": 4,
 "nbformat_minor": 4
}
