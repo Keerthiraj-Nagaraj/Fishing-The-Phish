{
 "cells": [
  {
   "cell_type": "markdown",
   "metadata": {},
   "source": [
    "# Phishing URL Detection\n",
    "\n",
    "\n",
    "From Wikipedia, https://en.wikipedia.org/wiki/Phishing\n",
    "\n",
    "> Phishing is the fraudulent attempt to obtain sensitive information such as usernames, passwords and credit card details, often for malicious reasons, by disguising as a trustworthy entity in an electronic communication. The word is a neologism created as a homophone of fishing due to the similarity of using a bait in an attempt to catch a victim. The annual worldwide impact of phishing could be as high as US$5 billion.\n",
    ">\n",
    "> Phishing is typically carried out by email spoofing or instant messaging, and it often directs users to enter personal information at a fake website, the look and feel of which are identical to the legitimate site, the only difference being the URL of the website in concern. Communications purporting to be from social web sites, auction sites, banks, online payment processors or IT administrators are often used to lure victims. Phishing emails may contain links to websites that distribute malware.\n",
    ">\n",
    "> Phishing is an example of social engineering techniques used to deceive users, and it exploits weaknesses in current web security. Attempts to deal with the growing number of reported phishing incidents include legislation, user training, public awareness, and technical security measures."
   ]
  },
  {
   "cell_type": "markdown",
   "metadata": {},
   "source": [
    "Here's an example of a real phishing email sent in 2011 by attackers looking to get login credentials for Facebook users:\n",
    "\n",
    "<pre>\n",
    "LAST WARNING : Your account is reported to have violated the policies that are considered annoying or insulting Facebook users.\n",
    "\n",
    "Until we system will disable your account within 24 hours if you do not do the reconfirmation.\n",
    "\n",
    "Please confirm your account below:\n",
    "\n",
    "[ Link Removed ]\n",
    "\n",
    "Thanks.\n",
    "The Facebook Team\n",
    "Copyright facebook © 2011 Inc. All rights reserved.\n",
    "</pre>\n",
    "\n",
    "A victim clicking on the Phishing link would be taken to a site that looked like a pretty good copy of the Facebook login screen.\n",
    "\n",
    "<img src=\"images/Not_Facebook.png\">"
   ]
  },
  {
   "cell_type": "markdown",
   "metadata": {},
   "source": [
    "Here are some examples of the links used in emails sent by the attackers running this phishing campaign:\n",
    "\n",
    "**Note**: These links may be dangerous to your computer. Our practice will be to \"neuter\" links by wrapping certain characters with square brackets so that you cannot click on these links, or accidentally copy/paste them into your browser.\n",
    "\n",
    "**CAUTION: DO NOT CLICK ON OR VISIT THESE LINKS!!**\n",
    "<pre>\n",
    "http[:]//team-welcome[.]at[.]ua/facebook-support[.]html\n",
    "http[:]//reportedpages[.]at[.]ua/facebook-support-account[.]html\n",
    "http[:]//www[.]facebooks[.]cloud/PayPlls[.]CEanada[.]tNZnZZlR3ZdyZZ-5RkZZDRTZZBy\n",
    "http[:]//www[.]greenaura[.]net/appz[.]westpac/westpac[.]appz/login[.]php\n",
    "http[:]//www[.]irastrum[.]com/wp-admin/mail[.]yahoo[.]com/\n",
    "http[:]//appleid[.]apple[.]com-subscriptions[.]manager508158125[.]kevinfoley[.]com\n",
    "</pre>\n",
    "**CAUTION: DO NOT CLICK ON OR VISIT THESE LINKS!!**\n",
    "\n",
    "\n",
    "Something smells a little phishy about these links. Given a close look by a human, you'd probably be able to decide pretty quickly if the link was really sent by Facebook or not. But billions of people get hundreds or thousands of emails each every day! How can defenders keep up with the onslaught by the phishers?\n",
    "\n",
    "## The Problem\n",
    "\n",
    "We want to use methods from Machine Learning to build a computer program that will automatically flag links it thinks are phishing attempts. We can do this by studying the problem, looking at data, and learning a decision rule.\n",
    "\n",
    "The dataset we will be using is named \"FIU_Phishing_Mitre_Dataset.csv\" and a testing dataset (without labels) is named \"Test_FIU_Phishing_Mitre_Dataset.csv\".\n",
    "#### Analyze the data, build features, or use the existing features in the data to build a model, and report your findings. We will use the F1 score to evaluate the final models from participants using a test set that we have set aside. \n",
    "\n",
    "##### Please email your final models to Ali Zaidi (szaidi@mitre.org) so that they can be run on the test set and evaluated in the competition. If you need help with the challenge, please find the Mitre table and the challenge organizers will be available to assist you. "
   ]
  },
  {
   "cell_type": "markdown",
   "metadata": {},
   "source": [
    "## Explore Some Data\n",
    "\n",
    "Let's take a look at the provided features on our set of URLs. \n",
    "\n",
    "* Create Age (in Months): The age of the domain. If the value is -1, that information is not available or the domain has been deleted. \n",
    "* Expiry Age (in Months): The amount of months until the domain expires. If the value is negative, that information is not available or the domain has been deleted.\n",
    "* Update Age (in Days): The last time the domain was updated. If the value is -1, that information is not available or the domain was deleted.\n",
    "* URL: The URL of the website. Three periods have been added to the end of each URL to prevent the URL from being clicked for security purposes. \n",
    "* Label: A label to determine whether a website is a phishing link or not. 0 denotes a website that is not a phishing link, 1 denotes a website is a phishing link. "
   ]
  }
 ],
 "metadata": {
  "kernelspec": {
   "display_name": "Python 3",
   "language": "python",
   "name": "python3"
  },
  "language_info": {
   "codemirror_mode": {
    "name": "ipython",
    "version": 3
   },
   "file_extension": ".py",
   "mimetype": "text/x-python",
   "name": "python",
   "nbconvert_exporter": "python",
   "pygments_lexer": "ipython3",
   "version": "3.6.7"
  }
 },
 "nbformat": 4,
 "nbformat_minor": 2
}
